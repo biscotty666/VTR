{
 "cells": [
  {
   "cell_type": "markdown",
   "id": "fedabb24-d395-441f-a147-df7313e7eccc",
   "metadata": {},
   "source": [
    "# Create and save overlays"
   ]
  },
  {
   "cell_type": "markdown",
   "id": "66c96bea-958c-4bc0-86d2-ef4806f0904d",
   "metadata": {},
   "source": [
    "## Albuquerque"
   ]
  },
  {
   "cell_type": "code",
   "execution_count": 1,
   "id": "195fc975-1c0f-47d7-a5a4-d1c3cb74f3b4",
   "metadata": {},
   "outputs": [],
   "source": [
    "import sys\n",
    "sys.path.append('../')"
   ]
  },
  {
   "cell_type": "code",
   "execution_count": 2,
   "id": "40f73097-aebf-4afd-a6bb-957e81e4e5bb",
   "metadata": {},
   "outputs": [],
   "source": [
    "from utils.Processing import extractOverlay"
   ]
  },
  {
   "cell_type": "markdown",
   "id": "a593ab8e-6e32-4c90-b74f-127a529a89a1",
   "metadata": {},
   "source": [
    ">Roads"
   ]
  },
  {
   "cell_type": "code",
   "execution_count": 3,
   "id": "6bafd109-f709-4c00-8c35-999f2cf7a552",
   "metadata": {},
   "outputs": [
    {
     "name": "stdout",
     "output_type": "stream",
     "text": [
      "Here\n",
      "overlaid.shape=(15024, 7)\n",
      "name.shape=(20562, 7)\n"
     ]
    }
   ],
   "source": [
    "roads_abq = extractOverlay(\n",
    "    \"download/tl_2010_35001_roads.zip\", \n",
    "    \"local/roads_abq.gpkg\", \n",
    "    save_full='local/roads_nm.gpkg'\n",
    ")"
   ]
  },
  {
   "cell_type": "markdown",
   "id": "ed1dcbbc-72d7-45e7-a92a-a559cea9ef69",
   "metadata": {},
   "source": [
    ">Water"
   ]
  },
  {
   "cell_type": "code",
   "execution_count": 9,
   "id": "feee0240-b9ce-4377-a077-8db9178dd5dc",
   "metadata": {},
   "outputs": [
    {
     "name": "stdout",
     "output_type": "stream",
     "text": [
      "overlaid.shape=(1024, 8)\n",
      "name.shape=(2009, 8)\n"
     ]
    }
   ],
   "source": [
    "water_ln_abq = extractOverlay(\n",
    "    \"download/tl_2010_35001_linearwater.zip\", \n",
    "    \"local/water_ln_abq.gpkg\", \n",
    "    save_full=\"local/water_ln_nm.gpkg\"\n",
    ")"
   ]
  },
  {
   "cell_type": "code",
   "execution_count": 10,
   "id": "04b29913-f7b5-4ed4-bfee-51eb18304f51",
   "metadata": {},
   "outputs": [
    {
     "name": "stdout",
     "output_type": "stream",
     "text": [
      "overlaid.shape=(187, 11)\n",
      "name.shape=(412, 11)\n"
     ]
    }
   ],
   "source": [
    "water_area_abq = extractOverlay(\n",
    "    \"download/tl_2010_35001_areawater.zip\", \n",
    "    \"local/water_area_abq.gpkg\", \n",
    "    save_full=\"local/water_area_nm.gpkg\"\n",
    ")"
   ]
  },
  {
   "cell_type": "markdown",
   "id": "d54dcf96-9f63-4f90-966c-aa51f6e66891",
   "metadata": {},
   "source": [
    "# Village of Taylor Ranch"
   ]
  },
  {
   "cell_type": "code",
   "execution_count": 4,
   "id": "0245e4c5-f6ed-4763-8258-b4e1fc7c41d4",
   "metadata": {},
   "outputs": [],
   "source": [
    "from utils.Globals import vtr_shp"
   ]
  },
  {
   "cell_type": "code",
   "execution_count": 5,
   "id": "47f4e71b-2d59-44c8-818a-9c45f8d03c90",
   "metadata": {},
   "outputs": [
    {
     "name": "stdout",
     "output_type": "stream",
     "text": [
      "overlaid.shape=(50, 8)\n",
      "name.shape=(2009, 8)\n"
     ]
    }
   ],
   "source": [
    "water_ln_vtf = extractOverlay(\n",
    "    \"download/tl_2010_35001_linearwater.zip\", \n",
    "    \"local/water_ln_vtr.gpkg\", \n",
    "    vtr_shp\n",
    ")"
   ]
  },
  {
   "cell_type": "code",
   "execution_count": 17,
   "id": "0e4a21c7-9b11-45b9-90d3-647a83f9f64f",
   "metadata": {},
   "outputs": [
    {
     "data": {
      "text/plain": [
       "Index(['geometry'], dtype='object')"
      ]
     },
     "execution_count": 17,
     "metadata": {},
     "output_type": "execute_result"
    }
   ],
   "source": [
    "vtr_shp.columns"
   ]
  },
  {
   "cell_type": "code",
   "execution_count": 18,
   "id": "93a3cb62-cd27-46ee-bdc6-9410c8663bb7",
   "metadata": {},
   "outputs": [
    {
     "data": {
      "text/plain": [
       "False"
      ]
     },
     "execution_count": 18,
     "metadata": {},
     "output_type": "execute_result"
    }
   ],
   "source": [
    "\"FID\" in vtr_shp.columns"
   ]
  },
  {
   "cell_type": "code",
   "execution_count": 21,
   "id": "56edb471-6d04-4fac-bb28-51c4a25a280a",
   "metadata": {},
   "outputs": [
    {
     "name": "stdout",
     "output_type": "stream",
     "text": [
      "no\n"
     ]
    }
   ],
   "source": [
    "if 'FID' in vtr_shp.columns: \n",
    "    print(\"hey\")\n",
    "else:\n",
    "    print(\"no\")"
   ]
  },
  {
   "cell_type": "code",
   "execution_count": null,
   "id": "a28b2b2f-6686-40aa-9ed8-9aa93aaa97fa",
   "metadata": {},
   "outputs": [],
   "source": []
  }
 ],
 "metadata": {
  "kernelspec": {
   "display_name": "Python 3 (ipykernel)",
   "language": "python",
   "name": "python3"
  },
  "language_info": {
   "codemirror_mode": {
    "name": "ipython",
    "version": 3
   },
   "file_extension": ".py",
   "mimetype": "text/x-python",
   "name": "python",
   "nbconvert_exporter": "python",
   "pygments_lexer": "ipython3",
   "version": "3.12.7"
  }
 },
 "nbformat": 4,
 "nbformat_minor": 5
}
