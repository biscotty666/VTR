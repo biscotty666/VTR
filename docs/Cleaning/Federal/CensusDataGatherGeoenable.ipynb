{
 "cells": [
  {
   "cell_type": "markdown",
   "id": "e1638acd-d0d0-4492-bebd-c6bf011d072d",
   "metadata": {},
   "source": [
    "# Data Gatthering and Geoenabling"
   ]
  },
  {
   "cell_type": "code",
   "execution_count": 2,
   "id": "5e020bf6-913c-4f9a-b53f-35363b4249f4",
   "metadata": {},
   "outputs": [],
   "source": [
    "# Import the requisite packages\n",
    "import matplotlib.pyplot as plt\n",
    "import pandas as pd\n",
    "import geopandas as gpd\n",
    "from census import Census \n",
    "from us import states "
   ]
  },
  {
   "cell_type": "code",
   "execution_count": 3,
   "id": "36309ebc-3d46-4aac-909e-e97714b35355",
   "metadata": {},
   "outputs": [],
   "source": [
    "from helpers import CENSUS_KEY"
   ]
  },
  {
   "cell_type": "code",
   "execution_count": 4,
   "id": "da64d69e-6ddb-4784-800a-1e83ff14a867",
   "metadata": {},
   "outputs": [],
   "source": [
    "# Set API key\n",
    "c = Census(CENSUS_KEY)"
   ]
  },
  {
   "cell_type": "code",
   "execution_count": 36,
   "id": "a115f041-0e18-43ac-8f53-a67b8e9052e2",
   "metadata": {},
   "outputs": [],
   "source": [
    "# Grabbing a few variables of interest pertaining to the economic vitality of an area\n",
    "fields = [\n",
    "    \"NAME\",\n",
    "    \"B01003_001E\", #\"Total Population\"\n",
    "    \"B25077_001E\", #\"Median value of owner occupied units\"\n",
    "    \"B25026_001E\", #\"Total population in occupied housing units\"\n",
    "    \"B25008_002E\", #\"Total number of owner occupied units\"\n",
    "    \"B25008_003E\", #\"Total number of renter occupied units\"\n",
    "    \"B06009_002E\", #\"Population with less than a high school diploma\"\n",
    "    \"B06009_003E\", #\"Population with high school diploma or equivalent\"\n",
    "    \"B06009_004E\", #\"Population with some college/associates degree\"\n",
    "    \"B06009_005E\", #\"Population with bachelors degree\"\n",
    "    \"B06009_006E\", #\"Population with a graduate degree\"\n",
    "    \"B01002_001E\", #\"Median age\"\n",
    "    \"B06010_004E\", #\"Population with income less than 9999\"\n",
    "    \"B06010_005E\", #\"Population with income between 10000 and 14999\"\n",
    "    \"B06010_006E\", #\"Population with income between 15000 and 24999\"\n",
    "    \"B06010_007E\", #\"Population with income between 25000 and 34999\"\n",
    "    \"B06010_008E\", #\"Population with income between 35000 and 49999\"\n",
    "    \"B06010_009E\", #\"Population with income between 50000 and 64999\"\n",
    "    \"B06010_010E\", #\"Population with income between 65000 and 74999\"\n",
    "    \"B06010_011E\", #\"Population with income of 75000 or more\"\n",
    "    \"B28007_009E\", #\"Population in labor force and unemployed\"\n",
    "    \"B19059_002E\", #\"Population that is retired with retirement income\"\n",
    "    \"B19059_003E\", #\"Retired without retirement income\"\n",
    "    \"B08013_001E\", #\"Travel time to work in minutes\"\n",
    "    \"B17013_002E\", #\"Population with income below poverty level in past 12 months\"\n",
    "    \"C02003_001E\", # Detailed Race\n",
    "    \"B99021_001E\", # Allocation of Race \n",
    "    \"B02001_001E\" # Race\n",
    "        ]"
   ]
  },
  {
   "cell_type": "markdown",
   "id": "712f733c-741d-4b28-aa00-32cadb6ad8cf",
   "metadata": {},
   "source": [
    ">2022 Data"
   ]
  },
  {
   "cell_type": "code",
   "execution_count": 62,
   "id": "ce0b3477-f02c-458c-8795-709f5f3fd6c4",
   "metadata": {},
   "outputs": [
    {
     "data": {
      "text/plain": [
       "(612, 31)"
      ]
     },
     "execution_count": 62,
     "metadata": {},
     "output_type": "execute_result"
    }
   ],
   "source": [
    "# Sources: https://api.census.gov/data/2019/acs/acs5/variables.html; https://pypi.org/project/census/\n",
    "nm_census_2022 = c.acs5.state_county_tract(\n",
    "    fields = fields,\n",
    "    state_fips = states.NM.fips,\n",
    "    county_fips = \"*\",\n",
    "    tract = \"*\",\n",
    "    year = 2022\n",
    "    )\n",
    "\n",
    "nm_df_2022 = pd.DataFrame(nm_census_2022)\n",
    "nm_df_2022.shape"
   ]
  },
  {
   "cell_type": "code",
   "execution_count": 63,
   "id": "b210c3e2-9c51-4f4b-95a4-e92df4bd9a6d",
   "metadata": {},
   "outputs": [
    {
     "data": {
      "text/plain": [
       "(499, 31)"
      ]
     },
     "execution_count": 63,
     "metadata": {},
     "output_type": "execute_result"
    }
   ],
   "source": [
    "# Sources: https://api.census.gov/data/2019/acs/acs5/variables.html; https://pypi.org/project/census/\n",
    "nm_census_2019 = c.acs5.state_county_tract(\n",
    "    fields = fields,\n",
    "    state_fips = states.NM.fips,\n",
    "    county_fips = \"*\",\n",
    "    tract = \"*\",\n",
    "    year = 2019\n",
    "    )\n",
    "\n",
    "nm_df_2019 = pd.DataFrame(nm_census_2019)\n",
    "nm_df_2019.shape"
   ]
  },
  {
   "cell_type": "code",
   "execution_count": 64,
   "id": "8dc9771e-4429-4848-80d3-c445d8b0c534",
   "metadata": {},
   "outputs": [
    {
     "data": {
      "text/plain": [
       "(499, 30)"
      ]
     },
     "execution_count": 64,
     "metadata": {},
     "output_type": "execute_result"
    }
   ],
   "source": [
    "# Sources: https://api.census.gov/data/2019/acs/acs5/variables.html; https://pypi.org/project/census/\n",
    "nm_census_2016 = c.acs5.state_county_tract(\n",
    "    fields = [x for x in fields if x != 'B28007_009E'],\n",
    "    state_fips = states.NM.fips,\n",
    "    county_fips = \"*\",\n",
    "    tract = \"*\",\n",
    "    year = 2016\n",
    "    )\n",
    "\n",
    "nm_df_2016 = pd.DataFrame(nm_census_2016)\n",
    "nm_df_2016.shape"
   ]
  },
  {
   "cell_type": "markdown",
   "id": "95224a42-002c-4efc-9708-6ec311871922",
   "metadata": {},
   "source": [
    "> NM fips: 35\n",
    "> EPSG: 2258"
   ]
  },
  {
   "cell_type": "code",
   "execution_count": 65,
   "id": "25f151f0-283d-4d0c-a81a-e9520f08b495",
   "metadata": {},
   "outputs": [
    {
     "data": {
      "text/plain": [
       "(612, 13)"
      ]
     },
     "execution_count": 65,
     "metadata": {},
     "output_type": "execute_result"
    }
   ],
   "source": [
    "nm_tract_2022 = gpd.read_file(\"https://www2.census.gov/geo/tiger/TIGER2022/TRACT/tl_2022_35_tract.zip\")\n",
    "nm_tract_2022 = nm_tract_2022.to_crs(epsg = 2258)\n",
    "nm_tract_2022.shape"
   ]
  },
  {
   "cell_type": "code",
   "execution_count": 66,
   "id": "4eae9026-5d50-4b28-9e55-0b2d28c2b24b",
   "metadata": {},
   "outputs": [
    {
     "data": {
      "text/plain": [
       "(499, 13)"
      ]
     },
     "execution_count": 66,
     "metadata": {},
     "output_type": "execute_result"
    }
   ],
   "source": [
    "nm_tract_2019 = gpd.read_file(\"https://www2.census.gov/geo/tiger/TIGER2019/TRACT/tl_2019_35_tract.zip\")\n",
    "nm_tract_2019 = nm_tract_2019.to_crs(epsg = 2258)\n",
    "nm_tract_2019.shape"
   ]
  },
  {
   "cell_type": "code",
   "execution_count": 67,
   "id": "799873e9-de61-428d-840e-f0410dfea844",
   "metadata": {},
   "outputs": [
    {
     "data": {
      "text/plain": [
       "(499, 13)"
      ]
     },
     "execution_count": 67,
     "metadata": {},
     "output_type": "execute_result"
    }
   ],
   "source": [
    "nm_tract_2016 = gpd.read_file(\"https://www2.census.gov/geo/tiger/TIGER2016/TRACT/tl_2016_35_tract.zip\")\n",
    "nm_tract_2016 = nm_tract_2016.to_crs(epsg = 2258)\n",
    "nm_tract_2016.shape"
   ]
  },
  {
   "cell_type": "markdown",
   "id": "278ac7ca-ced7-4461-a527-65dd586bf7ed",
   "metadata": {},
   "source": [
    ">Create GEOID variable to merge with census data"
   ]
  },
  {
   "cell_type": "code",
   "execution_count": 68,
   "id": "2e728e91-e762-4e43-807c-78786672d35d",
   "metadata": {},
   "outputs": [],
   "source": [
    "nm_df_2022['GEOID'] = nm_df_2022.state + nm_df_2022.county + nm_df_2022.tract\n",
    "nm_df_2019['GEOID'] = nm_df_2019.state + nm_df_2019.county + nm_df_2019.tract\n",
    "nm_df_2016['GEOID'] = nm_df_2016.state + nm_df_2016.county + nm_df_2016.tract"
   ]
  },
  {
   "cell_type": "code",
   "execution_count": 69,
   "id": "9b2171fc-d6de-407c-8342-204da128ab62",
   "metadata": {},
   "outputs": [],
   "source": [
    "nm_df_2022 = nm_df_2022.drop(columns=['state', 'county', 'tract'])\n",
    "nm_df_2019 = nm_df_2019.drop(columns=['state', 'county', 'tract'])\n",
    "nm_df_2016 = nm_df_2016.drop(columns=['state', 'county', 'tract'])"
   ]
  },
  {
   "cell_type": "code",
   "execution_count": 70,
   "id": "015c24ad-55e3-4dda-88d2-0237a7f1bff5",
   "metadata": {},
   "outputs": [
    {
     "name": "stdout",
     "output_type": "stream",
     "text": [
      "nm_merge_2022.shape=(612, 41)\n",
      "nm_merge_2019.shape=(499, 41)\n",
      "nm_merge_2016.shape=(499, 40)\n"
     ]
    }
   ],
   "source": [
    "nm_merge_2022 = nm_tract_2022.merge(nm_df_2022, on='GEOID')\n",
    "nm_merge_2019 = nm_tract_2019.merge(nm_df_2019, on='GEOID')\n",
    "nm_merge_2016 = nm_tract_2016.merge(nm_df_2016, on='GEOID')\n",
    "print(f'{nm_merge_2022.shape=}\\n{nm_merge_2019.shape=}\\n{nm_merge_2016.shape=}')"
   ]
  },
  {
   "cell_type": "code",
   "execution_count": 71,
   "id": "40d8fd4d-5385-4d48-b118-44e172df410d",
   "metadata": {},
   "outputs": [],
   "source": [
    "# Renaming variables in the data set\n",
    "for df in (nm_merge_2022, nm_merge_2019, nm_merge_2016):\n",
    "    df.rename(columns={\n",
    "    \"B01003_001E\":\"TotPop\", #\"Total Population\"\n",
    "    \"B25077_001E\":\"MedVal_OwnOccUnit\", #\"Median value of owner occupied units\"\n",
    "    \"B25026_001E\":\"TotPopOccUnits\", #\"Total population in occupied housing units\"\n",
    "    \"B25008_002E\":\"TotNumOwnOccUnit\", #\"Total number of owner occupied units\"\n",
    "    \"B25008_003E\":\"TotNumRentOccUnit\", #\"Total number of renter occupied units\"\n",
    "    \"B06009_002E\":\"PopLTHSDip\", #\"Population with less than a high school diploma\"\n",
    "    \"B06009_003E\":\"PopHSDip\", #\"Population with high school diploma or equivalent\"\n",
    "    \"B06009_004E\":\"PopAssoc\", #\"Population with some college/associates degree\"\n",
    "    \"B06009_005E\":\"PopBA\", #\"Population with bachelors degree\"\n",
    "    \"B06009_006E\":\"PopGrad\", #\"Population with a graduate degree\"\n",
    "    \"B01002_001E\":\"MedAge\", #\"Median age\"\n",
    "    \"B06010_004E\":\"PopIncLT10\", #\"Population with income less than 9999\"\n",
    "    \"B06010_005E\":\"PopInc1015\", #\"Population with income between 10000 and 14999\"\n",
    "    \"B06010_006E\":\"PopInc1525\", #\"Population with income between 15000 and 24999\"\n",
    "    \"B06010_007E\":\"PopInc2535\", #\"Population with income between 25000 and 34999\"\n",
    "    \"B06010_008E\":\"PopInc3550\", #\"Population with income between 35000 and 49999\"\n",
    "    \"B06010_009E\":\"PopInc5065\", #\"Population with income between 50000 and 64999\"\n",
    "    \"B06010_010E\":\"PopInc6575\", #\"Population with income between 65000 and 74999\"\n",
    "    \"B06010_011E\":\"PopIncGT75\", #\"Population with income of 75000 or more\"\n",
    "    \"B28007_009E\":\"UnempPop\", #\"Population in labor force and unemployed\"\n",
    "    \"B19059_002E\":\"RetPop\", #\"Population that is retired with retirement income\"\n",
    "    \"B19059_003E\":\"RetPopNoRetInc\", #\"Retired without retirement income\"\n",
    "    \"B08013_001E\":\"TrvTimWrk\", #\"Travel time to work in minutes\"\n",
    "    \"B17013_002E\":\"PopBlwPovLvl\", #\"Population with income below poverty level in past 12 months\"\n",
    "    \"C02003_001E\": \"RaceDet\", \n",
    "    \"B99021_001E\": \"RaceAlloc\", # Allocation of Race \n",
    "    \"B02001_001E\": \"Race\" # Race\n",
    "}\n",
    "                , inplace=True\n",
    "               )"
   ]
  },
  {
   "cell_type": "markdown",
   "id": "19a2ae1e-96f0-4591-97c5-4f20c19d852c",
   "metadata": {},
   "source": [
    ">Create a subset of variables of interest"
   ]
  },
  {
   "cell_type": "code",
   "execution_count": 72,
   "id": "7664da77-dfe8-4de3-b98c-fd8825802470",
   "metadata": {},
   "outputs": [],
   "source": [
    "var_list = [\n",
    "\"TotPop\", #\"Total Population\"\n",
    "\"TotPopOccUnits\", #\"Total population in occupied housing units\"\n",
    "\"TotNumOwnOccUnit\", #\"Total number of owner occupied units\"\n",
    "\"TotNumRentOccUnit\", #\"Total number of renter occupied units\"\n",
    "\"PopLTHSDip\", #\"Population with less than a high school diploma\"\n",
    "\"PopHSDip\", #\"Population with high school diploma or equivalent\"\n",
    "\"PopAssoc\", #\"Population with some college/associates degree\"\n",
    "\"PopBA\", #\"Population with bachelors degree\"\n",
    "\"PopGrad\", #\"Population with a graduate degree\"\n",
    "\"PopIncLT10\", #\"Population with income less than 9999\"\n",
    "\"PopInc1015\", #\"Population with income between 10000 and 14999\"\n",
    "\"PopInc1525\", #\"Population with income between 15000 and 24999\"\n",
    "\"PopInc2535\", #\"Population with income between 25000 and 34999\"\n",
    "\"PopInc3550\", #\"Population with income between 35000 and 49999\"\n",
    "\"PopInc5065\", #\"Population with income between 50000 and 64999\"\n",
    "\"PopInc6575\", #\"Population with income between 65000 and 74999\"\n",
    "\"PopIncGT75\", #\"Population with income of 75000 or more\"\n",
    "\"UnempPop\", #\"Population in labor force and unemployed\"\n",
    "\"RetPop\", #\"Population that is retired with retirement income\"\n",
    "\"RetPopNoRetInc\", #\"Retired without retirement income\"\n",
    "\"PopBlwPovLvl\", #\"Population with income below poverty level in past 12 months\"\n",
    "\"MedVal_OwnOccUnit\", #\"Median value of owner occupied units\"\n",
    "\"MedAge\", #\"Median age\"\n",
    "\"TrvTimWrk\", #\"Travel time to work in minutes\"\n",
    "\"RaceDet\", \n",
    "\"RaceAlloc\", # Allocation of Race \n",
    "\"Race\" # Race\n",
    "]"
   ]
  },
  {
   "cell_type": "code",
   "execution_count": 73,
   "id": "b5bb310a-326a-4d8c-a239-e3a85be4b73f",
   "metadata": {},
   "outputs": [],
   "source": [
    "var_list.append('geometry')"
   ]
  },
  {
   "cell_type": "code",
   "execution_count": 74,
   "id": "18c2be61-d534-4dd0-be2f-8ef7652c9bf8",
   "metadata": {},
   "outputs": [
    {
     "data": {
      "text/plain": [
       "['TotPop',\n",
       " 'TotPopOccUnits',\n",
       " 'TotNumOwnOccUnit',\n",
       " 'TotNumRentOccUnit',\n",
       " 'PopLTHSDip',\n",
       " 'PopHSDip',\n",
       " 'PopAssoc',\n",
       " 'PopBA',\n",
       " 'PopGrad',\n",
       " 'PopIncLT10',\n",
       " 'PopInc1015',\n",
       " 'PopInc1525',\n",
       " 'PopInc2535',\n",
       " 'PopInc3550',\n",
       " 'PopInc5065',\n",
       " 'PopInc6575',\n",
       " 'PopIncGT75',\n",
       " 'RetPop',\n",
       " 'RetPopNoRetInc',\n",
       " 'PopBlwPovLvl',\n",
       " 'MedVal_OwnOccUnit',\n",
       " 'MedAge',\n",
       " 'TrvTimWrk',\n",
       " 'RaceDet',\n",
       " 'RaceAlloc',\n",
       " 'Race',\n",
       " 'geometry']"
      ]
     },
     "execution_count": 74,
     "metadata": {},
     "output_type": "execute_result"
    }
   ],
   "source": [
    "[x for x in var_list if x != \"UnempPop\"]"
   ]
  },
  {
   "cell_type": "code",
   "execution_count": 75,
   "id": "b1d4ec29-ef3f-4cbf-8e4a-68c55f4b8a71",
   "metadata": {},
   "outputs": [],
   "source": [
    "nm_merge2_2022 = nm_merge_2022[var_list]\n",
    "nm_merge2_2019 = nm_merge_2019[var_list]\n",
    "nm_merge2_2016 = nm_merge_2016[[x for x in var_list if x != \"UnempPop\"]]"
   ]
  },
  {
   "cell_type": "code",
   "execution_count": 76,
   "id": "2623b8a6-fb52-49a8-83dc-d2171a6d1088",
   "metadata": {},
   "outputs": [],
   "source": [
    "var_list.remove('geometry')"
   ]
  },
  {
   "cell_type": "markdown",
   "id": "f1b1a006-bccc-4a74-b6da-69712d5e3253",
   "metadata": {},
   "source": [
    ">Remove areas with no population"
   ]
  },
  {
   "cell_type": "code",
   "execution_count": 78,
   "id": "a508f2cd-1eca-49c8-9858-ac8e5bcd8009",
   "metadata": {},
   "outputs": [
    {
     "data": {
      "text/plain": [
       "(604, 29)"
      ]
     },
     "execution_count": 78,
     "metadata": {},
     "output_type": "execute_result"
    }
   ],
   "source": [
    "nm_merged_2022 = nm_merge2_2022[nm_merge2_2022.TotPop > 0]\n",
    "nm_merged_2022.reset_index(inplace=True)\n",
    "nm_merged_2022.shape"
   ]
  },
  {
   "cell_type": "code",
   "execution_count": 79,
   "id": "72cb808c-16c2-4f73-bd95-519b94d6c842",
   "metadata": {},
   "outputs": [
    {
     "data": {
      "text/plain": [
       "(498, 29)"
      ]
     },
     "execution_count": 79,
     "metadata": {},
     "output_type": "execute_result"
    }
   ],
   "source": [
    "nm_merged_2019 = nm_merge2_2019[nm_merge2_2019.TotPop > 0]\n",
    "nm_merged_2019.reset_index(inplace=True)\n",
    "nm_merged_2019.shape"
   ]
  },
  {
   "cell_type": "code",
   "execution_count": 80,
   "id": "ac8143ad-0256-4fbe-9f6d-f15dc3208020",
   "metadata": {},
   "outputs": [
    {
     "data": {
      "text/plain": [
       "(498, 28)"
      ]
     },
     "execution_count": 80,
     "metadata": {},
     "output_type": "execute_result"
    }
   ],
   "source": [
    "nm_merged_2016 = nm_merge2_2016[nm_merge2_2016.TotPop > 0]\n",
    "nm_merged_2016.reset_index(inplace=True)\n",
    "nm_merged_2016.shape"
   ]
  },
  {
   "cell_type": "code",
   "execution_count": 81,
   "id": "644888aa-bd32-44c5-bd3a-dcb030f8978a",
   "metadata": {},
   "outputs": [],
   "source": [
    "nm_merged_2022.to_file('../../data/local/nm_census_2022.gpkg')\n",
    "nm_merged_2019.to_file('../../data/local/nm_census_2019.gpkg')\n",
    "nm_merged_2016.to_file('../../data/local/nm_census_2016.gpkg')"
   ]
  },
  {
   "cell_type": "code",
   "execution_count": 82,
   "id": "6fa861aa-6c9c-4670-8675-201049f8446c",
   "metadata": {},
   "outputs": [],
   "source": [
    "nm_tract_2022.to_file('../../data/local/nm_tract_2022.gpkg')\n",
    "nm_tract_2019.to_file('../../data/local/nm_tract_2019.gpkg')\n",
    "nm_tract_2016.to_file('../../data/local/nm_tract_2016.gpkg')"
   ]
  },
  {
   "cell_type": "code",
   "execution_count": null,
   "id": "1a99ba4f-f52e-4c80-bad1-7e7371b7fdc2",
   "metadata": {},
   "outputs": [],
   "source": []
  }
 ],
 "metadata": {
  "kernelspec": {
   "display_name": "Python 3 (ipykernel)",
   "language": "python",
   "name": "python3"
  },
  "language_info": {
   "codemirror_mode": {
    "name": "ipython",
    "version": 3
   },
   "file_extension": ".py",
   "mimetype": "text/x-python",
   "name": "python",
   "nbconvert_exporter": "python",
   "pygments_lexer": "ipython3",
   "version": "3.12.7"
  }
 },
 "nbformat": 4,
 "nbformat_minor": 5
}
