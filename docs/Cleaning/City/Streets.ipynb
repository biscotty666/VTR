{
 "cells": [
  {
   "cell_type": "markdown",
   "id": "0c1869db-5401-4254-bf91-9f69eea6599d",
   "metadata": {},
   "source": [
    "# Streets"
   ]
  },
  {
   "cell_type": "code",
   "execution_count": 1,
   "id": "bcc1b945-37ae-4545-b2c1-2a81ac467c29",
   "metadata": {},
   "outputs": [],
   "source": [
    "import geopandas as gpd"
   ]
  },
  {
   "cell_type": "code",
   "execution_count": 2,
   "id": "d233fff8-8514-4703-821c-d379f59bba74",
   "metadata": {},
   "outputs": [
    {
     "data": {
      "text/html": [
       "<div>\n",
       "<style scoped>\n",
       "    .dataframe tbody tr th:only-of-type {\n",
       "        vertical-align: middle;\n",
       "    }\n",
       "\n",
       "    .dataframe tbody tr th {\n",
       "        vertical-align: top;\n",
       "    }\n",
       "\n",
       "    .dataframe thead th {\n",
       "        text-align: right;\n",
       "    }\n",
       "</style>\n",
       "<table border=\"1\" class=\"dataframe\">\n",
       "  <thead>\n",
       "    <tr style=\"text-align: right;\">\n",
       "      <th></th>\n",
       "      <th>name</th>\n",
       "      <th>geometry_type</th>\n",
       "    </tr>\n",
       "  </thead>\n",
       "  <tbody>\n",
       "    <tr>\n",
       "      <th>0</th>\n",
       "      <td>netcurr</td>\n",
       "      <td>LineString</td>\n",
       "    </tr>\n",
       "  </tbody>\n",
       "</table>\n",
       "</div>"
      ],
      "text/plain": [
       "      name geometry_type\n",
       "0  netcurr    LineString"
      ]
     },
     "execution_count": 2,
     "metadata": {},
     "output_type": "execute_result"
    }
   ],
   "source": [
    "gpd.list_layers('data/netcurr.zip')"
   ]
  },
  {
   "cell_type": "code",
   "execution_count": 3,
   "id": "21927822-5dc3-46a1-9274-4804048b62fa",
   "metadata": {},
   "outputs": [
    {
     "name": "stdout",
     "output_type": "stream",
     "text": [
      "<class 'geopandas.geodataframe.GeoDataFrame'>\n",
      "RangeIndex: 44451 entries, 0 to 44450\n",
      "Data columns (total 20 columns):\n",
      " #   Column      Non-Null Count  Dtype         \n",
      "---  ------      --------------  -----         \n",
      " 0   OBJECTID    44451 non-null  int64         \n",
      " 1   FUNCTIONAL  44450 non-null  object        \n",
      " 2   LEFTLOW     44451 non-null  int64         \n",
      " 3   LEFTHIGH    44451 non-null  int64         \n",
      " 4   RIGHTLOW    44451 non-null  int64         \n",
      " 5   RIGHTHIGH   44451 non-null  int64         \n",
      " 6   STREETNAME  44445 non-null  object        \n",
      " 7   STREETDESI  39001 non-null  object        \n",
      " 8   STREETQUAD  40773 non-null  object        \n",
      " 9   ALTERNATES  1144 non-null   object        \n",
      " 10  ALTERNATED  33 non-null     object        \n",
      " 11  COMMENTS    3467 non-null   object        \n",
      " 12  ENTERDATE   3701 non-null   object        \n",
      " 13  created_us  2238 non-null   object        \n",
      " 14  created_da  2239 non-null   datetime64[ms]\n",
      " 15  last_edite  7990 non-null   object        \n",
      " 16  last_edi_1  7991 non-null   datetime64[ms]\n",
      " 17  Jurisdicti  44451 non-null  object        \n",
      " 18  STLe        44451 non-null  float64       \n",
      " 19  geometry    44451 non-null  geometry      \n",
      "dtypes: datetime64[ms](2), float64(1), geometry(1), int64(5), object(11)\n",
      "memory usage: 6.8+ MB\n"
     ]
    }
   ],
   "source": [
    "streets = gpd.read_file('data/netcurr.zip').to_crs(4267)\n",
    "streets.info()"
   ]
  },
  {
   "cell_type": "code",
   "execution_count": 4,
   "id": "249bf5ca-12fd-4750-b4aa-6f93551ac230",
   "metadata": {},
   "outputs": [
    {
     "data": {
      "text/plain": [
       "OBJECTID                                                1387470\n",
       "FUNCTIONAL                                                    4\n",
       "LEFTLOW                                                    4200\n",
       "LEFTHIGH                                                   4280\n",
       "RIGHTLOW                                                   4201\n",
       "RIGHTHIGH                                                  4279\n",
       "STREETNAME                                                  2ND\n",
       "STREETDESI                                                   ST\n",
       "STREETQUAD                                                   SW\n",
       "ALTERNATES                                               NM 303\n",
       "ALTERNATED                                                 None\n",
       "COMMENTS                                                   None\n",
       "ENTERDATE                                                  None\n",
       "created_us                                                 None\n",
       "created_da                                                  NaT\n",
       "last_edite                                             TGAULDEN\n",
       "last_edi_1                                  2023-12-27 00:00:00\n",
       "Jurisdicti                                               County\n",
       "STLe                                                1462.985779\n",
       "geometry      LINESTRING (-106.65870373514477 35.02200489587...\n",
       "Name: 55, dtype: object"
      ]
     },
     "execution_count": 4,
     "metadata": {},
     "output_type": "execute_result"
    }
   ],
   "source": [
    "streets.iloc[55]"
   ]
  },
  {
   "cell_type": "code",
   "execution_count": 5,
   "id": "91a5acd1-442a-49a9-a74b-a21f3809207e",
   "metadata": {},
   "outputs": [],
   "source": [
    "streets.drop(columns=['STLe', 'last_edi_1', 'last_edite', 'ENTERDATE',\n",
    "                      'created_da', 'created_us', 'created_us'], \n",
    "            inplace=True)"
   ]
  },
  {
   "cell_type": "code",
   "execution_count": 6,
   "id": "397b446c-f23d-4ae4-9ae7-907774b1c125",
   "metadata": {},
   "outputs": [],
   "source": [
    "streets.rename(columns={\n",
    "    'FUNCTIONAL': 'Functional', \n",
    "    'LEFTLOW': 'LeftLowAddress', \n",
    "    'LEFTHIGH': 'LeftHighAddress', \n",
    "    'RIGHTLOW': 'RightLowAddress', \n",
    "    'RIGHTHIGH': 'RightHighAddress', \n",
    "    'STREETNAME': 'Name', \n",
    "    'STREETDESI': 'Designation', \n",
    "    'STREETQUAD': 'Quadrant', \n",
    "    'ALTERNATES': 'AlternateName', \n",
    "    'ALTERNATED': 'AlternateDesignation', \n",
    "    'COMMENTS': 'Comments',\n",
    "    'Jurisdicti': 'Jurisdiction'\n",
    "}, inplace=True)"
   ]
  },
  {
   "cell_type": "code",
   "execution_count": 7,
   "id": "c6f12214-e626-416b-b59a-21b9fb27906f",
   "metadata": {},
   "outputs": [
    {
     "name": "stdout",
     "output_type": "stream",
     "text": [
      "<class 'geopandas.geodataframe.GeoDataFrame'>\n",
      "RangeIndex: 44451 entries, 0 to 44450\n",
      "Data columns (total 14 columns):\n",
      " #   Column                Non-Null Count  Dtype   \n",
      "---  ------                --------------  -----   \n",
      " 0   OBJECTID              44451 non-null  int64   \n",
      " 1   Functional            44450 non-null  object  \n",
      " 2   LeftLowAddress        44451 non-null  int64   \n",
      " 3   LeftHighAddress       44451 non-null  int64   \n",
      " 4   RightLowAddress       44451 non-null  int64   \n",
      " 5   RightHighAddress      44451 non-null  int64   \n",
      " 6   Name                  44445 non-null  object  \n",
      " 7   Designation           39001 non-null  object  \n",
      " 8   Quadrant              40773 non-null  object  \n",
      " 9   AlternateName         1144 non-null   object  \n",
      " 10  AlternateDesignation  33 non-null     object  \n",
      " 11  Comments              3467 non-null   object  \n",
      " 12  Jurisdiction          44451 non-null  object  \n",
      " 13  geometry              44451 non-null  geometry\n",
      "dtypes: geometry(1), int64(5), object(8)\n",
      "memory usage: 4.7+ MB\n"
     ]
    }
   ],
   "source": [
    "streets.info()"
   ]
  },
  {
   "cell_type": "code",
   "execution_count": 8,
   "id": "54a9b3f0-b66b-4659-820e-e97e007210a3",
   "metadata": {},
   "outputs": [
    {
     "data": {
      "text/plain": [
       "OBJECTID                                                          1379219\n",
       "Functional                                                              2\n",
       "LeftLowAddress                                                       1887\n",
       "LeftHighAddress                                                      1899\n",
       "RightLowAddress                                                      1886\n",
       "RightHighAddress                                                     1898\n",
       "Name                                                             BROADWAY\n",
       "Designation                                                          BLVD\n",
       "Quadrant                                                               NE\n",
       "AlternateName                                                        None\n",
       "AlternateDesignation                                                 None\n",
       "Comments                                                             None\n",
       "Jurisdiction                                                         City\n",
       "geometry                LINESTRING (-106.64054504124995 35.10249797109...\n",
       "Name: 516, dtype: object"
      ]
     },
     "execution_count": 8,
     "metadata": {},
     "output_type": "execute_result"
    }
   ],
   "source": [
    "streets.iloc[516]"
   ]
  },
  {
   "cell_type": "code",
   "execution_count": 10,
   "id": "baaa54fa-9a20-4b6d-b416-e4ac4bb72f1a",
   "metadata": {},
   "outputs": [],
   "source": [
    "streets.to_file('../../../data/local/abq_city_data.gpkg', \n",
    "               layer='streets')\n",
    "streets.to_file('../../../localData/City/streets.gpkg')"
   ]
  },
  {
   "cell_type": "code",
   "execution_count": null,
   "id": "83b9ebe2-8040-453e-8eeb-b9fa8002cdc1",
   "metadata": {},
   "outputs": [],
   "source": []
  }
 ],
 "metadata": {
  "kernelspec": {
   "display_name": "Python 3 (ipykernel)",
   "language": "python",
   "name": "python3"
  },
  "language_info": {
   "codemirror_mode": {
    "name": "ipython",
    "version": 3
   },
   "file_extension": ".py",
   "mimetype": "text/x-python",
   "name": "python",
   "nbconvert_exporter": "python",
   "pygments_lexer": "ipython3",
   "version": "3.12.7"
  }
 },
 "nbformat": 4,
 "nbformat_minor": 5
}
