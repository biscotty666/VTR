{
 "cells": [
  {
   "cell_type": "code",
   "execution_count": 1,
   "id": "a15542cd-f6d7-44d4-9cf9-8b72e49368e0",
   "metadata": {},
   "outputs": [],
   "source": [
    "import geopandas as gpd\n",
    "import folium"
   ]
  },
  {
   "cell_type": "markdown",
   "id": "9cbeabaa-87e8-4cf0-9a09-5b6f356de5ca",
   "metadata": {},
   "source": [
    "# Parcels\n",
    "\n",
    "Conains legal parcel boundaries"
   ]
  },
  {
   "cell_type": "code",
   "execution_count": 2,
   "id": "26fdb9b8-f382-44c6-8a17-fb6848e9d497",
   "metadata": {},
   "outputs": [
    {
     "name": "stdout",
     "output_type": "stream",
     "text": [
      "   name geometry_type\n",
      "0  base       Polygon\n"
     ]
    }
   ],
   "source": [
    "print(gpd.list_layers('data/base.zip'))"
   ]
  },
  {
   "cell_type": "code",
   "execution_count": 3,
   "id": "b3985293-0106-44bf-8754-f25282f14e34",
   "metadata": {},
   "outputs": [
    {
     "data": {
      "text/plain": [
       "<Projected CRS: PROJCS[\"NAD83(HARN) / New Mexico Central (ftUS)\",G ...>\n",
       "Name: NAD83(HARN) / New Mexico Central (ftUS)\n",
       "Axis Info [cartesian]:\n",
       "- [east]: Easting (US survey foot)\n",
       "- [north]: Northing (US survey foot)\n",
       "Area of Use:\n",
       "- undefined\n",
       "Coordinate Operation:\n",
       "- name: unnamed\n",
       "- method: Transverse Mercator\n",
       "Datum: NAD83 (High Accuracy Reference Network)\n",
       "- Ellipsoid: GRS 1980\n",
       "- Prime Meridian: Greenwich"
      ]
     },
     "execution_count": 3,
     "metadata": {},
     "output_type": "execute_result"
    }
   ],
   "source": [
    "parcels = gpd.read_file('data/base.zip')\n",
    "parcels.crs"
   ]
  },
  {
   "cell_type": "code",
   "execution_count": 4,
   "id": "9a67016d-9f5a-4c63-ae38-185d321468ec",
   "metadata": {},
   "outputs": [
    {
     "data": {
      "text/plain": [
       "<Geographic 2D CRS: EPSG:4267>\n",
       "Name: NAD27\n",
       "Axis Info [ellipsoidal]:\n",
       "- Lat[north]: Geodetic latitude (degree)\n",
       "- Lon[east]: Geodetic longitude (degree)\n",
       "Area of Use:\n",
       "- name: North and central America: Antigua and Barbuda - onshore. Bahamas - onshore plus offshore over internal continental shelf only. Belize - onshore. British Virgin Islands - onshore. Canada onshore - Alberta, British Columbia, Manitoba, New Brunswick, Newfoundland and Labrador, Northwest Territories, Nova Scotia, Nunavut, Ontario, Prince Edward Island, Quebec, Saskatchewan and Yukon - plus offshore east coast. Cuba - onshore and offshore. El Salvador - onshore. Guatemala - onshore. Honduras - onshore. Panama - onshore. Puerto Rico - onshore. Mexico - onshore plus offshore east coast. Nicaragua - onshore. United States (USA) onshore and offshore - Alabama, Alaska, Arizona, Arkansas, California, Colorado, Connecticut, Delaware, Florida, Georgia, Idaho, Illinois, Indiana, Iowa, Kansas, Kentucky, Louisiana, Maine, Maryland, Massachusetts, Michigan, Minnesota, Mississippi, Missouri, Montana, Nebraska, Nevada, New Hampshire, New Jersey, New Mexico, New York, North Carolina, North Dakota, Ohio, Oklahoma, Oregon, Pennsylvania, Rhode Island, South Carolina, South Dakota, Tennessee, Texas, Utah, Vermont, Virginia, Washington, West Virginia, Wisconsin and Wyoming - plus offshore . US Virgin Islands - onshore.\n",
       "- bounds: (167.65, 7.15, -47.74, 83.17)\n",
       "Datum: North American Datum 1927\n",
       "- Ellipsoid: Clarke 1866\n",
       "- Prime Meridian: Greenwich"
      ]
     },
     "execution_count": 4,
     "metadata": {},
     "output_type": "execute_result"
    }
   ],
   "source": [
    "parcels = parcels.to_crs(4267)\n",
    "parcels.crs"
   ]
  },
  {
   "cell_type": "code",
   "execution_count": 5,
   "id": "a1528b6d-8be6-4599-91bd-78fa892beed6",
   "metadata": {},
   "outputs": [
    {
     "name": "stdout",
     "output_type": "stream",
     "text": [
      "<class 'geopandas.geodataframe.GeoDataFrame'>\n",
      "RangeIndex: 207932 entries, 0 to 207931\n",
      "Data columns (total 18 columns):\n",
      " #   Column      Non-Null Count   Dtype         \n",
      "---  ------      --------------   -----         \n",
      " 0   OBJECTID    207932 non-null  int64         \n",
      " 1   LOT         207920 non-null  object        \n",
      " 2   BLOCK       207149 non-null  object        \n",
      " 3   SUBDIVISIO  207344 non-null  object        \n",
      " 4   STREETNUMB  207932 non-null  int64         \n",
      " 5   STREETNAME  207232 non-null  object        \n",
      " 6   STREETDESI  197462 non-null  object        \n",
      " 7   STREETQUAD  207240 non-null  object        \n",
      " 8   APARTMENT   3892 non-null    object        \n",
      " 9   PIN         207932 non-null  object        \n",
      " 10  created_us  7292 non-null    object        \n",
      " 11  created_da  7292 non-null    datetime64[ms]\n",
      " 12  last_edite  24752 non-null   object        \n",
      " 13  last_edi_1  24752 non-null   datetime64[ms]\n",
      " 14  Jurisdicti  207932 non-null  object        \n",
      " 15  STAr        207932 non-null  float64       \n",
      " 16  STLe        207932 non-null  float64       \n",
      " 17  geometry    207932 non-null  geometry      \n",
      "dtypes: datetime64[ms](2), float64(2), geometry(1), int64(2), object(11)\n",
      "memory usage: 28.6+ MB\n"
     ]
    }
   ],
   "source": [
    "parcels.info()"
   ]
  },
  {
   "cell_type": "code",
   "execution_count": 6,
   "id": "310b7e0e-196c-4add-9f63-bead44de25fb",
   "metadata": {},
   "outputs": [],
   "source": [
    "parcels.drop(columns=['created_us', 'created_da', 'last_edite', 'last_edi_1'], inplace=True)"
   ]
  },
  {
   "cell_type": "code",
   "execution_count": 7,
   "id": "62087efc-27bd-4371-8db8-0bf6142f4461",
   "metadata": {},
   "outputs": [
    {
     "data": {
      "text/plain": [
       "OBJECTID                                                  14954\n",
       "LOT                                                          17\n",
       "BLOCK                                                        17\n",
       "SUBDIVISIO                                  VIRGINIA PLACE ADDN\n",
       "STREETNUMB                                                 1317\n",
       "STREETNAME                                                ORTIZ\n",
       "STREETDESI                                                   DR\n",
       "STREETQUAD                                                   SE\n",
       "APARTMENT                                                  None\n",
       "PIN                                                   ABQ178094\n",
       "Jurisdicti                                                 City\n",
       "STAr                                                6346.414062\n",
       "STLe                                                 357.590115\n",
       "geometry      POLYGON ((-106.5848652611758 35.06129504864257...\n",
       "Name: 0, dtype: object"
      ]
     },
     "execution_count": 7,
     "metadata": {},
     "output_type": "execute_result"
    }
   ],
   "source": [
    "parcels.iloc[0]"
   ]
  },
  {
   "cell_type": "code",
   "execution_count": 8,
   "id": "887fe13f-639f-45ac-a8d8-20ee5d501926",
   "metadata": {},
   "outputs": [
    {
     "data": {
      "text/plain": [
       "6346.414183865376"
      ]
     },
     "execution_count": 8,
     "metadata": {},
     "output_type": "execute_result"
    }
   ],
   "source": [
    "parcels.to_crs(2903).iloc[0].geometry.area"
   ]
  },
  {
   "cell_type": "code",
   "execution_count": 9,
   "id": "fe4d5cee-1d9a-46e7-9d1b-6e84326e41e4",
   "metadata": {},
   "outputs": [
    {
     "data": {
      "text/plain": [
       "357.5901145178395"
      ]
     },
     "execution_count": 9,
     "metadata": {},
     "output_type": "execute_result"
    }
   ],
   "source": [
    "parcels.to_crs(2903).iloc[0].geometry.length"
   ]
  },
  {
   "cell_type": "code",
   "execution_count": 10,
   "id": "646ebce7-d16d-469a-903c-4ad728bd9e1f",
   "metadata": {},
   "outputs": [
    {
     "name": "stdout",
     "output_type": "stream",
     "text": [
      "<class 'geopandas.geodataframe.GeoDataFrame'>\n",
      "RangeIndex: 207932 entries, 0 to 207931\n",
      "Data columns (total 14 columns):\n",
      " #   Column        Non-Null Count   Dtype   \n",
      "---  ------        --------------   -----   \n",
      " 0   OBJECTID      207932 non-null  int64   \n",
      " 1   LOT           207920 non-null  object  \n",
      " 2   BLOCK         207149 non-null  object  \n",
      " 3   SUBDIVISIO    207344 non-null  object  \n",
      " 4   STREETNUMB    207932 non-null  int64   \n",
      " 5   STREETNAME    207232 non-null  object  \n",
      " 6   STREETDESI    197462 non-null  object  \n",
      " 7   STREETQUAD    207240 non-null  object  \n",
      " 8   APARTMENT     3892 non-null    object  \n",
      " 9   PIN           207932 non-null  object  \n",
      " 10  Jurisdiction  207932 non-null  object  \n",
      " 11  Area          207932 non-null  float64 \n",
      " 12  Perimeter     207932 non-null  float64 \n",
      " 13  geometry      207932 non-null  geometry\n",
      "dtypes: float64(2), geometry(1), int64(2), object(9)\n",
      "memory usage: 22.2+ MB\n"
     ]
    }
   ],
   "source": [
    "parcels.rename(columns={'STAr':'Area', 'STLe':'Perimeter', 'Jurisdicti':'Jurisdiction'}, inplace=True)\n",
    "parcels.info()"
   ]
  },
  {
   "cell_type": "code",
   "execution_count": 11,
   "id": "66d666b1-70c6-4dc0-8b1c-d28f5f4b7565",
   "metadata": {},
   "outputs": [
    {
     "name": "stdout",
     "output_type": "stream",
     "text": [
      "<class 'geopandas.geodataframe.GeoDataFrame'>\n",
      "RangeIndex: 207932 entries, 0 to 207931\n",
      "Data columns (total 14 columns):\n",
      " #   Column           Non-Null Count   Dtype   \n",
      "---  ------           --------------   -----   \n",
      " 0   ObjectID         207932 non-null  int64   \n",
      " 1   Lot              207920 non-null  object  \n",
      " 2   Block            207149 non-null  object  \n",
      " 3   Subdivision      207344 non-null  object  \n",
      " 4   StreetNumber     207932 non-null  int64   \n",
      " 5   Name             207232 non-null  object  \n",
      " 6   Designation      197462 non-null  object  \n",
      " 7   Quadrant         207240 non-null  object  \n",
      " 8   ApartmentNumber  3892 non-null    object  \n",
      " 9   ParcelIDNumber   207932 non-null  object  \n",
      " 10  Jurisdiction     207932 non-null  object  \n",
      " 11  Area             207932 non-null  float64 \n",
      " 12  Perimeter        207932 non-null  float64 \n",
      " 13  geometry         207932 non-null  geometry\n",
      "dtypes: float64(2), geometry(1), int64(2), object(9)\n",
      "memory usage: 22.2+ MB\n"
     ]
    }
   ],
   "source": [
    "parcels.rename(columns=dict(\n",
    "    OBJECTID = 'ObjectID', \n",
    "    LOT = 'Lot', \n",
    "    BLOCK = 'Block',\n",
    "    SUBDIVISIO = 'Subdivision', \n",
    "    STREETNUMB = 'StreetNumber', \n",
    "    STREETNAME = 'Name', \n",
    "    STREETDESI = 'Designation', \n",
    "    STREETQUAD = 'Quadrant', \n",
    "    APARTMENT = 'ApartmentNumber', \n",
    "    PIN = 'ParcelIDNumber'\n",
    "), inplace=True)\n",
    "parcels.info()"
   ]
  },
  {
   "cell_type": "code",
   "execution_count": 12,
   "id": "105d3171-c33c-4b14-82dc-6b6e515916b8",
   "metadata": {},
   "outputs": [
    {
     "name": "stdout",
     "output_type": "stream",
     "text": [
      "<class 'geopandas.geodataframe.GeoDataFrame'>\n",
      "RangeIndex: 207932 entries, 0 to 207931\n",
      "Data columns (total 14 columns):\n",
      " #   Column           Non-Null Count   Dtype   \n",
      "---  ------           --------------   -----   \n",
      " 0   ObjectID         207932 non-null  int64   \n",
      " 1   Lot              207920 non-null  object  \n",
      " 2   Block            207149 non-null  object  \n",
      " 3   Subdivision      207344 non-null  object  \n",
      " 4   StreetNumber     207932 non-null  object  \n",
      " 5   Name             207232 non-null  object  \n",
      " 6   Designation      197462 non-null  object  \n",
      " 7   Quadrant         207240 non-null  object  \n",
      " 8   ApartmentNumber  3892 non-null    object  \n",
      " 9   ParcelIDNumber   207932 non-null  object  \n",
      " 10  Jurisdiction     207932 non-null  object  \n",
      " 11  Area             207932 non-null  float64 \n",
      " 12  Perimeter        207932 non-null  float64 \n",
      " 13  geometry         207932 non-null  geometry\n",
      "dtypes: float64(2), geometry(1), int64(1), object(10)\n",
      "memory usage: 22.2+ MB\n"
     ]
    }
   ],
   "source": [
    "parcels.StreetNumber = parcels.StreetNumber.astype(str)\n",
    "parcels.info()"
   ]
  },
  {
   "cell_type": "code",
   "execution_count": 13,
   "id": "22db95e9-ca79-4525-9d17-991e3b2ff9da",
   "metadata": {},
   "outputs": [],
   "source": [
    "parcels.to_file('../../../data/local/parcels.gpkg')"
   ]
  },
  {
   "cell_type": "code",
   "execution_count": 15,
   "id": "0166b0ec-0f40-4691-a9de-ac250935c82e",
   "metadata": {},
   "outputs": [],
   "source": [
    "nw = parcels[parcels.Quadrant == 'NW']\n",
    "nw.to_file('../../../localData/City/parcels_nw.gpkg')"
   ]
  },
  {
   "cell_type": "code",
   "execution_count": 16,
   "id": "663c4a18-f110-4c9e-bd6f-0138529e2d55",
   "metadata": {},
   "outputs": [],
   "source": [
    "ne = parcels[parcels.Quadrant == 'NE']\n",
    "ne.to_file('../../../localData/City/parcels_ne.gpkg')\n",
    "sw = parcels[parcels.Quadrant == 'SW']\n",
    "sw.to_file('../../../localData/City/parcels_sw.gpkg')\n",
    "se = parcels[parcels.Quadrant == 'SE']\n",
    "se.to_file('../../../localData/City/parcels_se.gpkg')"
   ]
  },
  {
   "cell_type": "code",
   "execution_count": null,
   "id": "d7fdf391-3900-4cc5-a322-7997fddcd1ba",
   "metadata": {},
   "outputs": [],
   "source": []
  }
 ],
 "metadata": {
  "kernelspec": {
   "display_name": "Python 3 (ipykernel)",
   "language": "python",
   "name": "python3"
  },
  "language_info": {
   "codemirror_mode": {
    "name": "ipython",
    "version": 3
   },
   "file_extension": ".py",
   "mimetype": "text/x-python",
   "name": "python",
   "nbconvert_exporter": "python",
   "pygments_lexer": "ipython3",
   "version": "3.12.7"
  }
 },
 "nbformat": 4,
 "nbformat_minor": 5
}
