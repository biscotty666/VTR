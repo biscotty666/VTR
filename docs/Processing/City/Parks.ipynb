{
 "cells": [
  {
   "cell_type": "markdown",
   "id": "3b5405e6-6542-4055-b4f1-c7c2f09ce6b9",
   "metadata": {},
   "source": [
    "# Parks"
   ]
  },
  {
   "cell_type": "code",
   "execution_count": 1,
   "id": "76159c4b-8eb3-4d8d-a1ac-2daf965d349a",
   "metadata": {},
   "outputs": [],
   "source": [
    "import geopandas as gpd"
   ]
  },
  {
   "cell_type": "code",
   "execution_count": 2,
   "id": "913c5078-e294-441b-965b-7bdcc7e6e1c6",
   "metadata": {},
   "outputs": [
    {
     "data": {
      "text/html": [
       "<div>\n",
       "<style scoped>\n",
       "    .dataframe tbody tr th:only-of-type {\n",
       "        vertical-align: middle;\n",
       "    }\n",
       "\n",
       "    .dataframe tbody tr th {\n",
       "        vertical-align: top;\n",
       "    }\n",
       "\n",
       "    .dataframe thead th {\n",
       "        text-align: right;\n",
       "    }\n",
       "</style>\n",
       "<table border=\"1\" class=\"dataframe\">\n",
       "  <thead>\n",
       "    <tr style=\"text-align: right;\">\n",
       "      <th></th>\n",
       "      <th>name</th>\n",
       "      <th>geometry_type</th>\n",
       "    </tr>\n",
       "  </thead>\n",
       "  <tbody>\n",
       "    <tr>\n",
       "      <th>0</th>\n",
       "      <td>parks</td>\n",
       "      <td>Polygon</td>\n",
       "    </tr>\n",
       "  </tbody>\n",
       "</table>\n",
       "</div>"
      ],
      "text/plain": [
       "    name geometry_type\n",
       "0  parks       Polygon"
      ]
     },
     "execution_count": 2,
     "metadata": {},
     "output_type": "execute_result"
    }
   ],
   "source": [
    "gpd.list_layers('data/parks.zip')"
   ]
  },
  {
   "cell_type": "code",
   "execution_count": 3,
   "id": "04697e27-8694-4ccc-8f9e-24230677a015",
   "metadata": {},
   "outputs": [],
   "source": [
    "parks = gpd.read_file('data/parks.zip').to_crs(4267)"
   ]
  },
  {
   "cell_type": "code",
   "execution_count": 5,
   "id": "a810c3e2-a42f-4387-b570-4da8ef89cc2c",
   "metadata": {},
   "outputs": [
    {
     "name": "stdout",
     "output_type": "stream",
     "text": [
      "<class 'geopandas.geodataframe.GeoDataFrame'>\n",
      "RangeIndex: 295 entries, 0 to 294\n",
      "Data columns (total 34 columns):\n",
      " #   Column      Non-Null Count  Dtype         \n",
      "---  ------      --------------  -----         \n",
      " 0   OBJECTID    295 non-null    int64         \n",
      " 1   ParkName    295 non-null    object        \n",
      " 2   ParkStatus  295 non-null    object        \n",
      " 3   CrossStree  295 non-null    object        \n",
      " 4   ParkAddres  287 non-null    object        \n",
      " 5   TennisCour  294 non-null    object        \n",
      " 6   Basketball  294 non-null    object        \n",
      " 7   Baseball    294 non-null    object        \n",
      " 8   FieldSport  294 non-null    object        \n",
      " 9   Bocce       294 non-null    object        \n",
      " 10  DiscGolf    294 non-null    object        \n",
      " 11  Pickleball  294 non-null    object        \n",
      " 12  HorseShoes  294 non-null    object        \n",
      " 13  SkatePark   294 non-null    object        \n",
      " 14  Handball    294 non-null    object        \n",
      " 15  PlayStruct  294 non-null    object        \n",
      " 16  DogPark     294 non-null    object        \n",
      " 17  ExerciseSt  294 non-null    object        \n",
      " 18  ShadedPicn  294 non-null    object        \n",
      " 19  ShadedSeat  294 non-null    object        \n",
      " 20  ShadedPlay  294 non-null    object        \n",
      " 21  WalkingPat  294 non-null    object        \n",
      " 22  Tables      294 non-null    object        \n",
      " 23  Jumpers     294 non-null    object        \n",
      " 24  ModelAircr  294 non-null    object        \n",
      " 25  URL         0 non-null      object        \n",
      " 26  created_us  14 non-null     object        \n",
      " 27  created_da  14 non-null     datetime64[ms]\n",
      " 28  last_edite  295 non-null    object        \n",
      " 29  last_edi_1  295 non-null    datetime64[ms]\n",
      " 30  u_id        295 non-null    object        \n",
      " 31  STAr        295 non-null    float64       \n",
      " 32  STLe        295 non-null    float64       \n",
      " 33  geometry    295 non-null    geometry      \n",
      "dtypes: datetime64[ms](2), float64(2), geometry(1), int64(1), object(28)\n",
      "memory usage: 78.5+ KB\n"
     ]
    }
   ],
   "source": [
    "parks.info()"
   ]
  },
  {
   "cell_type": "code",
   "execution_count": 6,
   "id": "194b35be-e766-43a3-b592-703f8f770786",
   "metadata": {},
   "outputs": [
    {
     "name": "stdout",
     "output_type": "stream",
     "text": [
      "<class 'geopandas.geodataframe.GeoDataFrame'>\n",
      "RangeIndex: 295 entries, 0 to 294\n",
      "Data columns (total 26 columns):\n",
      " #   Column      Non-Null Count  Dtype   \n",
      "---  ------      --------------  -----   \n",
      " 0   OBJECTID    295 non-null    int64   \n",
      " 1   ParkName    295 non-null    object  \n",
      " 2   ParkStatus  295 non-null    object  \n",
      " 3   CrossStree  295 non-null    object  \n",
      " 4   ParkAddres  287 non-null    object  \n",
      " 5   TennisCour  294 non-null    object  \n",
      " 6   Basketball  294 non-null    object  \n",
      " 7   Baseball    294 non-null    object  \n",
      " 8   FieldSport  294 non-null    object  \n",
      " 9   Bocce       294 non-null    object  \n",
      " 10  DiscGolf    294 non-null    object  \n",
      " 11  Pickleball  294 non-null    object  \n",
      " 12  HorseShoes  294 non-null    object  \n",
      " 13  SkatePark   294 non-null    object  \n",
      " 14  Handball    294 non-null    object  \n",
      " 15  PlayStruct  294 non-null    object  \n",
      " 16  DogPark     294 non-null    object  \n",
      " 17  ExerciseSt  294 non-null    object  \n",
      " 18  ShadedPicn  294 non-null    object  \n",
      " 19  ShadedSeat  294 non-null    object  \n",
      " 20  ShadedPlay  294 non-null    object  \n",
      " 21  WalkingPat  294 non-null    object  \n",
      " 22  Tables      294 non-null    object  \n",
      " 23  Jumpers     294 non-null    object  \n",
      " 24  ModelAircr  294 non-null    object  \n",
      " 25  geometry    295 non-null    geometry\n",
      "dtypes: geometry(1), int64(1), object(24)\n",
      "memory usage: 60.1+ KB\n"
     ]
    }
   ],
   "source": [
    "parks.drop(columns=[\n",
    "    'STLe', 'STAr', 'last_edi_1', 'last_edite', \n",
    "    'created_da', 'created_us', \n",
    "    'u_id', 'URL'\n",
    "], inplace=True)\n",
    "parks.info()"
   ]
  },
  {
   "cell_type": "code",
   "execution_count": 7,
   "id": "d6fed481-b730-4ac0-80b6-0b04cd014de0",
   "metadata": {},
   "outputs": [
    {
     "data": {
      "text/plain": [
       "array(['n', 'y', None], dtype=object)"
      ]
     },
     "execution_count": 7,
     "metadata": {},
     "output_type": "execute_result"
    }
   ],
   "source": [
    "parks.SkatePark.unique()"
   ]
  },
  {
   "cell_type": "code",
   "execution_count": 8,
   "id": "3583e4a1-fc4f-40b5-9669-55e1ef3fa9d1",
   "metadata": {},
   "outputs": [
    {
     "data": {
      "text/plain": [
       "array(['n', 'y', None], dtype=object)"
      ]
     },
     "execution_count": 8,
     "metadata": {},
     "output_type": "execute_result"
    }
   ],
   "source": [
    "parks.ExerciseSt.unique()"
   ]
  },
  {
   "cell_type": "code",
   "execution_count": 9,
   "id": "70e4baf7-c211-4a92-9e18-591b57056233",
   "metadata": {},
   "outputs": [
    {
     "data": {
      "text/html": [
       "<div>\n",
       "<style scoped>\n",
       "    .dataframe tbody tr th:only-of-type {\n",
       "        vertical-align: middle;\n",
       "    }\n",
       "\n",
       "    .dataframe tbody tr th {\n",
       "        vertical-align: top;\n",
       "    }\n",
       "\n",
       "    .dataframe thead th {\n",
       "        text-align: right;\n",
       "    }\n",
       "</style>\n",
       "<table border=\"1\" class=\"dataframe\">\n",
       "  <thead>\n",
       "    <tr style=\"text-align: right;\">\n",
       "      <th></th>\n",
       "      <th>ParkName</th>\n",
       "      <th>ParkStatus</th>\n",
       "      <th>CrossStree</th>\n",
       "      <th>ParkAddres</th>\n",
       "    </tr>\n",
       "  </thead>\n",
       "  <tbody>\n",
       "    <tr>\n",
       "      <th>0</th>\n",
       "      <td>Hailey Ratliff Trails</td>\n",
       "      <td>Existing</td>\n",
       "      <td>Rainbow / Paseo Del Norte</td>\n",
       "      <td>7200 Tree Line Av NW</td>\n",
       "    </tr>\n",
       "    <tr>\n",
       "      <th>1</th>\n",
       "      <td>Mariposa Basin</td>\n",
       "      <td>Existing</td>\n",
       "      <td>Taylor Ranch / Kachina St</td>\n",
       "      <td>6701 Taylor Ranch Dr NW</td>\n",
       "    </tr>\n",
       "    <tr>\n",
       "      <th>2</th>\n",
       "      <td>Ross</td>\n",
       "      <td>Existing</td>\n",
       "      <td>San Mateo / Gibson</td>\n",
       "      <td>4801 Crest Av SE</td>\n",
       "    </tr>\n",
       "    <tr>\n",
       "      <th>3</th>\n",
       "      <td>Lynnewood</td>\n",
       "      <td>Existing</td>\n",
       "      <td>Los Arboles / Marie Park</td>\n",
       "      <td>2721 Marie Park Dr NE</td>\n",
       "    </tr>\n",
       "    <tr>\n",
       "      <th>4</th>\n",
       "      <td>Robinson</td>\n",
       "      <td>Existing</td>\n",
       "      <td>8th / Central</td>\n",
       "      <td>801 Central Av NW</td>\n",
       "    </tr>\n",
       "    <tr>\n",
       "      <th>...</th>\n",
       "      <td>...</td>\n",
       "      <td>...</td>\n",
       "      <td>...</td>\n",
       "      <td>...</td>\n",
       "    </tr>\n",
       "    <tr>\n",
       "      <th>290</th>\n",
       "      <td>Hunter's Run</td>\n",
       "      <td>Existing</td>\n",
       "      <td>Black Arroyo / Seven Bar</td>\n",
       "      <td>10300 Chandler Dr NW</td>\n",
       "    </tr>\n",
       "    <tr>\n",
       "      <th>291</th>\n",
       "      <td>Briar Ridge</td>\n",
       "      <td>Existing</td>\n",
       "      <td>Briar Ridge / Ventana Ranch Rd.</td>\n",
       "      <td>9801 Ventana Ranch Rd NW</td>\n",
       "    </tr>\n",
       "    <tr>\n",
       "      <th>292</th>\n",
       "      <td>Madison Middle School</td>\n",
       "      <td>Existing</td>\n",
       "      <td>Comanche / Moon</td>\n",
       "      <td>3501 Moon St NE</td>\n",
       "    </tr>\n",
       "    <tr>\n",
       "      <th>293</th>\n",
       "      <td>Lavaland</td>\n",
       "      <td>Existing</td>\n",
       "      <td>64th / Avalon</td>\n",
       "      <td>310 Coors Blvd NW</td>\n",
       "    </tr>\n",
       "    <tr>\n",
       "      <th>294</th>\n",
       "      <td>Sunrise Terrace</td>\n",
       "      <td>Existing</td>\n",
       "      <td>San Ygnacio / 102Nd St.</td>\n",
       "      <td>850 102nd St SW</td>\n",
       "    </tr>\n",
       "  </tbody>\n",
       "</table>\n",
       "<p>295 rows × 4 columns</p>\n",
       "</div>"
      ],
      "text/plain": [
       "                  ParkName ParkStatus                       CrossStree  \\\n",
       "0    Hailey Ratliff Trails   Existing        Rainbow / Paseo Del Norte   \n",
       "1           Mariposa Basin   Existing        Taylor Ranch / Kachina St   \n",
       "2                     Ross   Existing               San Mateo / Gibson   \n",
       "3                Lynnewood   Existing         Los Arboles / Marie Park   \n",
       "4                 Robinson   Existing                    8th / Central   \n",
       "..                     ...        ...                              ...   \n",
       "290           Hunter's Run   Existing         Black Arroyo / Seven Bar   \n",
       "291            Briar Ridge   Existing  Briar Ridge / Ventana Ranch Rd.   \n",
       "292  Madison Middle School   Existing                  Comanche / Moon   \n",
       "293               Lavaland   Existing                    64th / Avalon   \n",
       "294        Sunrise Terrace   Existing          San Ygnacio / 102Nd St.   \n",
       "\n",
       "                   ParkAddres  \n",
       "0        7200 Tree Line Av NW  \n",
       "1     6701 Taylor Ranch Dr NW  \n",
       "2            4801 Crest Av SE  \n",
       "3       2721 Marie Park Dr NE  \n",
       "4           801 Central Av NW  \n",
       "..                        ...  \n",
       "290      10300 Chandler Dr NW  \n",
       "291  9801 Ventana Ranch Rd NW  \n",
       "292           3501 Moon St NE  \n",
       "293         310 Coors Blvd NW  \n",
       "294           850 102nd St SW  \n",
       "\n",
       "[295 rows x 4 columns]"
      ]
     },
     "execution_count": 9,
     "metadata": {},
     "output_type": "execute_result"
    }
   ],
   "source": [
    "parks[['ParkName', 'ParkStatus', 'CrossStree', 'ParkAddres']]"
   ]
  },
  {
   "cell_type": "code",
   "execution_count": 10,
   "id": "b5380d6f-3e29-4c39-998e-d1dbf2de258c",
   "metadata": {},
   "outputs": [
    {
     "data": {
      "text/plain": [
       "array(['Existing', 'Proposed'], dtype=object)"
      ]
     },
     "execution_count": 10,
     "metadata": {},
     "output_type": "execute_result"
    }
   ],
   "source": [
    "parks.ParkStatus.unique()"
   ]
  },
  {
   "cell_type": "code",
   "execution_count": 11,
   "id": "052120d8-fb73-4540-bf81-6ffb051c83fd",
   "metadata": {},
   "outputs": [
    {
     "data": {
      "text/plain": [
       "14"
      ]
     },
     "execution_count": 11,
     "metadata": {},
     "output_type": "execute_result"
    }
   ],
   "source": [
    "len(parks[parks.ParkStatus == 'Proposed'])"
   ]
  },
  {
   "cell_type": "code",
   "execution_count": 12,
   "id": "4275f7f6-3bb6-4965-a71c-ac3870da4bcb",
   "metadata": {},
   "outputs": [],
   "source": [
    "parks_existing = parks[parks.ParkStatus == 'Existing']\n",
    "parks_proposed = parks[parks.ParkStatus == 'Proposed']"
   ]
  },
  {
   "cell_type": "code",
   "execution_count": 13,
   "id": "7216e15d-5eea-4f9d-9613-1648a3860d0e",
   "metadata": {},
   "outputs": [],
   "source": [
    "parks_existing.to_file('../../../localData/City/parks.gpkg', \n",
    "                      layer='existing_parks')"
   ]
  },
  {
   "cell_type": "code",
   "execution_count": 14,
   "id": "22e573ba-5247-4300-910a-d9e0cfa04e05",
   "metadata": {},
   "outputs": [],
   "source": [
    "parks_proposed.to_file('../../../localData/City/parks.gpkg', \n",
    "                      layer='proposed_parks')"
   ]
  },
  {
   "cell_type": "code",
   "execution_count": null,
   "id": "d8e3e347-5b10-4b26-8776-9c63824fed3c",
   "metadata": {},
   "outputs": [],
   "source": []
  }
 ],
 "metadata": {
  "kernelspec": {
   "display_name": "Python 3 (ipykernel)",
   "language": "python",
   "name": "python3"
  },
  "language_info": {
   "codemirror_mode": {
    "name": "ipython",
    "version": 3
   },
   "file_extension": ".py",
   "mimetype": "text/x-python",
   "name": "python",
   "nbconvert_exporter": "python",
   "pygments_lexer": "ipython3",
   "version": "3.12.7"
  }
 },
 "nbformat": 4,
 "nbformat_minor": 5
}
