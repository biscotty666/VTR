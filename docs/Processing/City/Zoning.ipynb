{
 "cells": [
  {
   "cell_type": "markdown",
   "id": "b86abd07-5c0a-4f9d-af3c-804317ce54ee",
   "metadata": {},
   "source": [
    "# Zones"
   ]
  },
  {
   "cell_type": "code",
   "execution_count": 1,
   "id": "43df7b19-fa3c-4cf3-aec9-85e1491de603",
   "metadata": {},
   "outputs": [],
   "source": [
    "import geopandas as gpd"
   ]
  },
  {
   "cell_type": "code",
   "execution_count": 2,
   "id": "014c525e-b0ac-4b79-b735-f4a6801d2861",
   "metadata": {},
   "outputs": [
    {
     "data": {
      "text/html": [
       "<div>\n",
       "<style scoped>\n",
       "    .dataframe tbody tr th:only-of-type {\n",
       "        vertical-align: middle;\n",
       "    }\n",
       "\n",
       "    .dataframe tbody tr th {\n",
       "        vertical-align: top;\n",
       "    }\n",
       "\n",
       "    .dataframe thead th {\n",
       "        text-align: right;\n",
       "    }\n",
       "</style>\n",
       "<table border=\"1\" class=\"dataframe\">\n",
       "  <thead>\n",
       "    <tr style=\"text-align: right;\">\n",
       "      <th></th>\n",
       "      <th>name</th>\n",
       "      <th>geometry_type</th>\n",
       "    </tr>\n",
       "  </thead>\n",
       "  <tbody>\n",
       "    <tr>\n",
       "      <th>0</th>\n",
       "      <td>IDOZoning</td>\n",
       "      <td>Polygon</td>\n",
       "    </tr>\n",
       "  </tbody>\n",
       "</table>\n",
       "</div>"
      ],
      "text/plain": [
       "        name geometry_type\n",
       "0  IDOZoning       Polygon"
      ]
     },
     "execution_count": 2,
     "metadata": {},
     "output_type": "execute_result"
    }
   ],
   "source": [
    "gpd.list_layers('data/IDOZoning.zip')"
   ]
  },
  {
   "cell_type": "code",
   "execution_count": 3,
   "id": "e6074f2f-2a08-49c3-b174-81d5d377ded0",
   "metadata": {},
   "outputs": [
    {
     "name": "stdout",
     "output_type": "stream",
     "text": [
      "<class 'geopandas.geodataframe.GeoDataFrame'>\n",
      "RangeIndex: 16046 entries, 0 to 16045\n",
      "Data columns (total 17 columns):\n",
      " #   Column      Non-Null Count  Dtype         \n",
      "---  ------      --------------  -----         \n",
      " 0   OBJECTID    16046 non-null  int64         \n",
      " 1   IDOZoneDis  16046 non-null  object        \n",
      " 2   IDODistric  16046 non-null  object        \n",
      " 3   IDOZoningD  621 non-null    object        \n",
      " 4   IDOCategor  16046 non-null  object        \n",
      " 5   LastUpdate  16044 non-null  datetime64[ms]\n",
      " 6   OldZoningD  15421 non-null  object        \n",
      " 7   OldZonin_1  6530 non-null   object        \n",
      " 8   OldZoningC  16046 non-null  object        \n",
      " 9   IDOUseTabl  15464 non-null  object        \n",
      " 10  created_us  2563 non-null   object        \n",
      " 11  created_da  2563 non-null   datetime64[ms]\n",
      " 12  last_edite  16046 non-null  object        \n",
      " 13  last_edi_1  16046 non-null  datetime64[ms]\n",
      " 14  STAr        16046 non-null  float64       \n",
      " 15  STLe        16046 non-null  float64       \n",
      " 16  geometry    16046 non-null  geometry      \n",
      "dtypes: datetime64[ms](3), float64(2), geometry(1), int64(1), object(10)\n",
      "memory usage: 2.1+ MB\n"
     ]
    }
   ],
   "source": [
    "zoning = gpd.read_file('data/IDOZoning.zip').to_crs(4267)\n",
    "zoning.info()"
   ]
  },
  {
   "cell_type": "code",
   "execution_count": 4,
   "id": "ebb00db9-c63a-4e86-a6b7-afdc7ee781bd",
   "metadata": {},
   "outputs": [],
   "source": [
    "cois = list(('OBJECTID', 'IDOZoneDis', 'IDODistric', \n",
    "           'IDOCategor', 'IDOUseTabl', 'geometry'))\n",
    "zoning = zoning[cois]"
   ]
  },
  {
   "cell_type": "code",
   "execution_count": 5,
   "id": "daa4a316-0f9e-4df2-a230-a759cf126328",
   "metadata": {},
   "outputs": [
    {
     "name": "stdout",
     "output_type": "stream",
     "text": [
      "<class 'geopandas.geodataframe.GeoDataFrame'>\n",
      "RangeIndex: 16046 entries, 0 to 16045\n",
      "Data columns (total 6 columns):\n",
      " #   Column          Non-Null Count  Dtype   \n",
      "---  ------          --------------  -----   \n",
      " 0   OBJECTID        16046 non-null  int64   \n",
      " 1   IDOCode         16046 non-null  object  \n",
      " 2   IDODescription  16046 non-null  object  \n",
      " 3   IDOCategory     16046 non-null  object  \n",
      " 4   IDODocument     15464 non-null  object  \n",
      " 5   geometry        16046 non-null  geometry\n",
      "dtypes: geometry(1), int64(1), object(4)\n",
      "memory usage: 752.3+ KB\n"
     ]
    }
   ],
   "source": [
    "zoning.rename(columns={\n",
    "    'IDOZoneDis' : 'IDOCode', \n",
    "    'IDODistric' : 'IDODescription', \n",
    "    'IDOCategor' : 'IDOCategory',\n",
    "    'IDOUseTabl' : 'IDODocument'\n",
    "}, inplace=True)\n",
    "zoning.info()"
   ]
  },
  {
   "cell_type": "code",
   "execution_count": 6,
   "id": "75e29de0-afdf-4e74-bf90-af5920f7591a",
   "metadata": {},
   "outputs": [],
   "source": [
    "zoning.to_file('../../../localData/City/zoning.gpkg')"
   ]
  },
  {
   "cell_type": "code",
   "execution_count": null,
   "id": "fb46a9fb-9402-472f-b79d-a6cdfd1b7dc8",
   "metadata": {},
   "outputs": [],
   "source": []
  }
 ],
 "metadata": {
  "kernelspec": {
   "display_name": "Python 3 (ipykernel)",
   "language": "python",
   "name": "python3"
  },
  "language_info": {
   "codemirror_mode": {
    "name": "ipython",
    "version": 3
   },
   "file_extension": ".py",
   "mimetype": "text/x-python",
   "name": "python",
   "nbconvert_exporter": "python",
   "pygments_lexer": "ipython3",
   "version": "3.12.7"
  }
 },
 "nbformat": 4,
 "nbformat_minor": 5
}
