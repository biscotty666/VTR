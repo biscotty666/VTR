{
 "cells": [
  {
   "cell_type": "markdown",
   "id": "15a7dacc-e1d2-4339-9dd4-b597a26c7bed",
   "metadata": {},
   "source": [
    "# Zip Codes"
   ]
  },
  {
   "cell_type": "code",
   "execution_count": 1,
   "id": "7f048741-ec3a-4379-b9e1-41e788d47f3c",
   "metadata": {},
   "outputs": [],
   "source": [
    "import geopandas as gpd"
   ]
  },
  {
   "cell_type": "code",
   "execution_count": 3,
   "id": "63966a7d-10ae-49e1-a539-01720fcc4967",
   "metadata": {},
   "outputs": [
    {
     "name": "stdout",
     "output_type": "stream",
     "text": [
      "<class 'geopandas.geodataframe.GeoDataFrame'>\n",
      "RangeIndex: 27 entries, 0 to 26\n",
      "Data columns (total 9 columns):\n",
      " #   Column      Non-Null Count  Dtype         \n",
      "---  ------      --------------  -----         \n",
      " 0   OBJECTID    27 non-null     int64         \n",
      " 1   ZIPCODE     27 non-null     int64         \n",
      " 2   created_us  1 non-null      object        \n",
      " 3   created_da  1 non-null      datetime64[ms]\n",
      " 4   last_edite  12 non-null     object        \n",
      " 5   last_edi_1  12 non-null     datetime64[ms]\n",
      " 6   STAr        27 non-null     float64       \n",
      " 7   STLe        27 non-null     float64       \n",
      " 8   geometry    27 non-null     geometry      \n",
      "dtypes: datetime64[ms](2), float64(2), geometry(1), int64(2), object(2)\n",
      "memory usage: 2.0+ KB\n"
     ]
    }
   ],
   "source": [
    "zipcodes = gpd.read_file('data/zipcodes.zip').to_crs(4267)\n",
    "zipcodes.info()"
   ]
  },
  {
   "cell_type": "code",
   "execution_count": 6,
   "id": "40171cd4-8418-4a83-a3ad-466ec41aeea3",
   "metadata": {},
   "outputs": [],
   "source": [
    "zipcodes = (zipcodes[['OBJECTID', 'ZIPCODE', 'geometry']]\n",
    "               .rename(columns={'ZIPCODE':'ZipCode'}))"
   ]
  },
  {
   "cell_type": "code",
   "execution_count": 7,
   "id": "59676758-6d58-41bc-ac10-a195b234c2ff",
   "metadata": {},
   "outputs": [
    {
     "name": "stdout",
     "output_type": "stream",
     "text": [
      "<class 'geopandas.geodataframe.GeoDataFrame'>\n",
      "RangeIndex: 27 entries, 0 to 26\n",
      "Data columns (total 3 columns):\n",
      " #   Column    Non-Null Count  Dtype   \n",
      "---  ------    --------------  -----   \n",
      " 0   OBJECTID  27 non-null     int64   \n",
      " 1   ZipCode   27 non-null     int64   \n",
      " 2   geometry  27 non-null     geometry\n",
      "dtypes: geometry(1), int64(2)\n",
      "memory usage: 780.0 bytes\n"
     ]
    }
   ],
   "source": [
    "zipcodes.info()"
   ]
  },
  {
   "cell_type": "code",
   "execution_count": 8,
   "id": "913b9c53-4557-4fd2-a323-011a1213e8cf",
   "metadata": {},
   "outputs": [],
   "source": [
    "zipcodes.to_file('../../../data/local/abq_city_data.gpkg', layer='zipcodes')\n",
    "zipcodes.to_file('../../../localData/City/zipcodes.gpkg')"
   ]
  },
  {
   "cell_type": "code",
   "execution_count": null,
   "id": "12bfea62-1425-48b3-aacc-6305d3dd0cca",
   "metadata": {},
   "outputs": [],
   "source": []
  }
 ],
 "metadata": {
  "kernelspec": {
   "display_name": "Python 3 (ipykernel)",
   "language": "python",
   "name": "python3"
  },
  "language_info": {
   "codemirror_mode": {
    "name": "ipython",
    "version": 3
   },
   "file_extension": ".py",
   "mimetype": "text/x-python",
   "name": "python",
   "nbconvert_exporter": "python",
   "pygments_lexer": "ipython3",
   "version": "3.12.7"
  }
 },
 "nbformat": 4,
 "nbformat_minor": 5
}
