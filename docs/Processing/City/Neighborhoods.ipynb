{
 "cells": [
  {
   "cell_type": "markdown",
   "id": "ae8b157a-4201-44c7-bd65-05ed3f964bed",
   "metadata": {},
   "source": [
    "# Neighborhoods"
   ]
  },
  {
   "cell_type": "code",
   "execution_count": 1,
   "id": "f27b3f9b-8de4-47f2-ab6f-8d93a99a71af",
   "metadata": {},
   "outputs": [],
   "source": [
    "import geopandas as gpd"
   ]
  },
  {
   "cell_type": "code",
   "execution_count": 13,
   "id": "da467a51-19bb-4978-a559-b6a4fdd23174",
   "metadata": {},
   "outputs": [
    {
     "name": "stdout",
     "output_type": "stream",
     "text": [
      "<class 'geopandas.geodataframe.GeoDataFrame'>\n",
      "RangeIndex: 418 entries, 0 to 417\n",
      "Data columns (total 21 columns):\n",
      " #   Column      Non-Null Count  Dtype         \n",
      "---  ------      --------------  -----         \n",
      " 0   OBJECTID    418 non-null    int64         \n",
      " 1   Associatio  418 non-null    object        \n",
      " 2   Associat_1  418 non-null    object        \n",
      " 3   Status      418 non-null    object        \n",
      " 4   Recognitio  418 non-null    object        \n",
      " 5   Type        418 non-null    object        \n",
      " 6   NotifyList  418 non-null    object        \n",
      " 7   ZoneMapPag  418 non-null    object        \n",
      " 8   Label       403 non-null    object        \n",
      " 9   PDFLink     403 non-null    object        \n",
      " 10  created_us  418 non-null    object        \n",
      " 11  created_da  418 non-null    datetime64[ms]\n",
      " 12  last_edite  418 non-null    object        \n",
      " 13  last_edi_1  418 non-null    datetime64[ms]\n",
      " 14  CityCounci  418 non-null    object        \n",
      " 15  CoalitionM  418 non-null    object        \n",
      " 16  CoalitionN  418 non-null    object        \n",
      " 17  Notes       11 non-null     object        \n",
      " 18  STAr        418 non-null    float64       \n",
      " 19  STLe        418 non-null    float64       \n",
      " 20  geometry    418 non-null    geometry      \n",
      "dtypes: datetime64[ms](2), float64(2), geometry(1), int64(1), object(15)\n",
      "memory usage: 68.7+ KB\n"
     ]
    }
   ],
   "source": [
    "neighborhoods = gpd.read_file('data/nbr.zip').to_crs(4267)\n",
    "neighborhoods.info()"
   ]
  },
  {
   "cell_type": "code",
   "execution_count": 14,
   "id": "128f1d25-998f-4532-bb0d-04cb16b80ad0",
   "metadata": {},
   "outputs": [
    {
     "name": "stdout",
     "output_type": "stream",
     "text": [
      "<class 'geopandas.geodataframe.GeoDataFrame'>\n",
      "RangeIndex: 418 entries, 0 to 417\n",
      "Data columns (total 15 columns):\n",
      " #   Column      Non-Null Count  Dtype   \n",
      "---  ------      --------------  -----   \n",
      " 0   OBJECTID    418 non-null    int64   \n",
      " 1   Associatio  418 non-null    object  \n",
      " 2   Associat_1  418 non-null    object  \n",
      " 3   Status      418 non-null    object  \n",
      " 4   Recognitio  418 non-null    object  \n",
      " 5   Type        418 non-null    object  \n",
      " 6   NotifyList  418 non-null    object  \n",
      " 7   ZoneMapPag  418 non-null    object  \n",
      " 8   Label       403 non-null    object  \n",
      " 9   PDFLink     403 non-null    object  \n",
      " 10  CityCounci  418 non-null    object  \n",
      " 11  CoalitionM  418 non-null    object  \n",
      " 12  CoalitionN  418 non-null    object  \n",
      " 13  Notes       11 non-null     object  \n",
      " 14  geometry    418 non-null    geometry\n",
      "dtypes: geometry(1), int64(1), object(13)\n",
      "memory usage: 49.1+ KB\n"
     ]
    }
   ],
   "source": [
    "drops = [\n",
    "    'STLe', 'STAr', 'last_edi_1', 'last_edite',\n",
    "    'created_da', 'created_us'\n",
    "]\n",
    "neighborhoods.drop(columns=drops, inplace=True)\n",
    "neighborhoods.info()"
   ]
  },
  {
   "cell_type": "code",
   "execution_count": 15,
   "id": "cccbe576-7e87-488d-bb7b-771f99e0ab52",
   "metadata": {},
   "outputs": [
    {
     "data": {
      "text/plain": [
       "OBJECTID                                                    225\n",
       "Associatio                                                  CLL\n",
       "Associat_1                                     Cielito Lindo NA\n",
       "Status                                                   Active\n",
       "Recognitio                                           Recognized\n",
       "Type                                   Neighborhood Association\n",
       "NotifyList                                       Not Applicable\n",
       "ZoneMapPag                                                 G-21\n",
       "Label                             CLL   G-21   Cielito Lindo NA\n",
       "PDFLink       http://data.cabq.gov/community/neighborhoods/p...\n",
       "CityCounci                                                    8\n",
       "CoalitionM                                                  Yes\n",
       "CoalitionN    District 8 Coalition of Neighborhood Associations\n",
       "Notes                                                      None\n",
       "geometry      POLYGON ((-106.51510843736415 35.1306036575326...\n",
       "Name: 0, dtype: object"
      ]
     },
     "execution_count": 15,
     "metadata": {},
     "output_type": "execute_result"
    }
   ],
   "source": [
    "neighborhoods.iloc[0]"
   ]
  },
  {
   "cell_type": "code",
   "execution_count": 16,
   "id": "6d241013-71e6-46a5-bf11-67539f09bde8",
   "metadata": {},
   "outputs": [
    {
     "data": {
      "text/plain": [
       "array([None,\n",
       "       'Until they can affirm membership, ONC says to not include the boundaries of these organizations as part of the D8 Coalition',\n",
       "       '<Null>',\n",
       "       'Until confirmation, they are considered inactive, not recognized, will only receive notification as part of D8 Coalition, & not as a recognized NA.',\n",
       "       'Does not receive notification. Have not submitted list of member associations.'],\n",
       "      dtype=object)"
      ]
     },
     "execution_count": 16,
     "metadata": {},
     "output_type": "execute_result"
    }
   ],
   "source": [
    "neighborhoods.Notes.unique()"
   ]
  },
  {
   "cell_type": "code",
   "execution_count": 17,
   "id": "11f4ae5e-b8d9-4673-a27c-686e45d63d2f",
   "metadata": {},
   "outputs": [
    {
     "data": {
      "text/plain": [
       "array(['Not Applicable', 'Notify Uptown List',\n",
       "       'Notify Balloon Fiesta Park NA List', 'Notify Downtown List',\n",
       "       'Notify University Neighborhoods SDP List'], dtype=object)"
      ]
     },
     "execution_count": 17,
     "metadata": {},
     "output_type": "execute_result"
    }
   ],
   "source": [
    "neighborhoods.NotifyList.unique()"
   ]
  },
  {
   "cell_type": "code",
   "execution_count": 18,
   "id": "2159b1be-d9d3-4d1f-99b0-4eeb89749b96",
   "metadata": {},
   "outputs": [],
   "source": [
    "neighborhoods.drop(columns=['Notes', 'NotifyList'], inplace=True)"
   ]
  },
  {
   "cell_type": "code",
   "execution_count": 19,
   "id": "510b8bd9-aa8e-41d0-983c-b54218d972f3",
   "metadata": {},
   "outputs": [
    {
     "name": "stdout",
     "output_type": "stream",
     "text": [
      "<class 'geopandas.geodataframe.GeoDataFrame'>\n",
      "RangeIndex: 418 entries, 0 to 417\n",
      "Data columns (total 13 columns):\n",
      " #   Column             Non-Null Count  Dtype   \n",
      "---  ------             --------------  -----   \n",
      " 0   OBJECTID           418 non-null    int64   \n",
      " 1   AssociationCode    418 non-null    object  \n",
      " 2   AssociationName    418 non-null    object  \n",
      " 3   Status             418 non-null    object  \n",
      " 4   RecognizedStatus   418 non-null    object  \n",
      " 5   Type               418 non-null    object  \n",
      " 6   ZoneMapPage        418 non-null    object  \n",
      " 7   Label              403 non-null    object  \n",
      " 8   PDFLink            403 non-null    object  \n",
      " 9   CityCounci         418 non-null    object  \n",
      " 10  isCoalitionMember  418 non-null    object  \n",
      " 11  CoalitionName      418 non-null    object  \n",
      " 12  geometry           418 non-null    geometry\n",
      "dtypes: geometry(1), int64(1), object(11)\n",
      "memory usage: 42.6+ KB\n"
     ]
    }
   ],
   "source": [
    "name_changes = dict(\n",
    "    CoalitionM = 'isCoalitionMember', \n",
    "    CoalitionN = 'CoalitionName', \n",
    "    ZoneMapPag = 'ZoneMapPage', \n",
    "    Recognitio = 'RecognizedStatus', \n",
    "    Associatio = 'AssociationCode', \n",
    "    Associat_1 = 'AssociationName'\n",
    ")\n",
    "neighborhoods.rename(columns=name_changes, inplace=True)\n",
    "neighborhoods.info()"
   ]
  },
  {
   "cell_type": "code",
   "execution_count": 20,
   "id": "4faf2dd8-236e-4835-b15e-1b9d795891c4",
   "metadata": {},
   "outputs": [],
   "source": [
    "neighborhoods.to_file('../../../localData/City/neighborhoods.gpkg')\n",
    "neighborhoods.to_file('../../../data/local/abq_city_data.gpkg', \n",
    "                     layer='neighborhoods')"
   ]
  },
  {
   "cell_type": "code",
   "execution_count": null,
   "id": "42487647-d68e-4f2e-a347-1b7b31897a6f",
   "metadata": {},
   "outputs": [],
   "source": []
  }
 ],
 "metadata": {
  "kernelspec": {
   "display_name": "Python 3 (ipykernel)",
   "language": "python",
   "name": "python3"
  },
  "language_info": {
   "codemirror_mode": {
    "name": "ipython",
    "version": 3
   },
   "file_extension": ".py",
   "mimetype": "text/x-python",
   "name": "python",
   "nbconvert_exporter": "python",
   "pygments_lexer": "ipython3",
   "version": "3.12.7"
  }
 },
 "nbformat": 4,
 "nbformat_minor": 5
}
