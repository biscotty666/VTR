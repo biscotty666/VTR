{
 "cells": [
  {
   "cell_type": "markdown",
   "id": "b86abd07-5c0a-4f9d-af3c-804317ce54ee",
   "metadata": {},
   "source": [
    "# Zones"
   ]
  },
  {
   "cell_type": "code",
   "execution_count": 78,
   "id": "43df7b19-fa3c-4cf3-aec9-85e1491de603",
   "metadata": {},
   "outputs": [],
   "source": [
    "import geopandas as gpd"
   ]
  },
  {
   "cell_type": "code",
   "execution_count": 79,
   "id": "553fb1e5-e74a-426b-8feb-74f626793392",
   "metadata": {},
   "outputs": [
    {
     "data": {
      "text/html": [
       "<div>\n",
       "<style scoped>\n",
       "    .dataframe tbody tr th:only-of-type {\n",
       "        vertical-align: middle;\n",
       "    }\n",
       "\n",
       "    .dataframe tbody tr th {\n",
       "        vertical-align: top;\n",
       "    }\n",
       "\n",
       "    .dataframe thead th {\n",
       "        text-align: right;\n",
       "    }\n",
       "</style>\n",
       "<table border=\"1\" class=\"dataframe\">\n",
       "  <thead>\n",
       "    <tr style=\"text-align: right;\">\n",
       "      <th></th>\n",
       "      <th>name</th>\n",
       "      <th>geometry_type</th>\n",
       "    </tr>\n",
       "  </thead>\n",
       "  <tbody>\n",
       "    <tr>\n",
       "      <th>0</th>\n",
       "      <td>zonegrid</td>\n",
       "      <td>Polygon</td>\n",
       "    </tr>\n",
       "  </tbody>\n",
       "</table>\n",
       "</div>"
      ],
      "text/plain": [
       "       name geometry_type\n",
       "0  zonegrid       Polygon"
      ]
     },
     "execution_count": 79,
     "metadata": {},
     "output_type": "execute_result"
    }
   ],
   "source": [
    "gpd.list_layers('data/zonegrid.zip')"
   ]
  },
  {
   "cell_type": "code",
   "execution_count": 80,
   "id": "aba3ade1-aa70-4365-9b7a-070dafb60ff4",
   "metadata": {},
   "outputs": [
    {
     "name": "stdout",
     "output_type": "stream",
     "text": [
      "<class 'geopandas.geodataframe.GeoDataFrame'>\n",
      "RangeIndex: 456 entries, 0 to 455\n",
      "Data columns (total 22 columns):\n",
      " #   Column      Non-Null Count  Dtype         \n",
      "---  ------      --------------  -----         \n",
      " 0   OBJECTID    456 non-null    int64         \n",
      " 1   ZONEMAPNAM  456 non-null    object        \n",
      " 2   TOWNSHIP    456 non-null    object        \n",
      " 3   RANGE       456 non-null    object        \n",
      " 4   SECTIONNUM  456 non-null    int64         \n",
      " 5   REFERENCE   456 non-null    int64         \n",
      " 6   MILESEAST   456 non-null    object        \n",
      " 7   MILESNORTH  456 non-null    object        \n",
      " 8   PAGE        456 non-null    object        \n",
      " 9   UPCPREFIX   456 non-null    object        \n",
      " 10  FULLZONEMA  456 non-null    object        \n",
      " 11  ADDATLASPD  456 non-null    object        \n",
      " 12  ZONEATLASP  456 non-null    object        \n",
      " 13  ADDCABQ     456 non-null    object        \n",
      " 14  ZONECABQ    456 non-null    object        \n",
      " 15  created_us  0 non-null      object        \n",
      " 16  created_da  0 non-null      datetime64[ms]\n",
      " 17  last_edite  456 non-null    object        \n",
      " 18  last_edi_1  456 non-null    datetime64[ms]\n",
      " 19  STAr        456 non-null    float64       \n",
      " 20  STLe        456 non-null    float64       \n",
      " 21  geometry    456 non-null    geometry      \n",
      "dtypes: datetime64[ms](2), float64(2), geometry(1), int64(3), object(14)\n",
      "memory usage: 78.5+ KB\n"
     ]
    }
   ],
   "source": [
    "zonegrid = gpd.read_file('data/zonegrid.zip')\n",
    "zonegrid.info()"
   ]
  },
  {
   "cell_type": "code",
   "execution_count": 81,
   "id": "a28cbfb1-a3f8-4968-8a1d-a6b7a73dba26",
   "metadata": {},
   "outputs": [
    {
     "name": "stdout",
     "output_type": "stream",
     "text": [
      "<class 'geopandas.geodataframe.GeoDataFrame'>\n",
      "RangeIndex: 456 entries, 0 to 455\n",
      "Data columns (total 16 columns):\n",
      " #   Column      Non-Null Count  Dtype   \n",
      "---  ------      --------------  -----   \n",
      " 0   OBJECTID    456 non-null    int64   \n",
      " 1   ZONEMAPNAM  456 non-null    object  \n",
      " 2   TOWNSHIP    456 non-null    object  \n",
      " 3   RANGE       456 non-null    object  \n",
      " 4   SECTIONNUM  456 non-null    int64   \n",
      " 5   REFERENCE   456 non-null    int64   \n",
      " 6   MILESEAST   456 non-null    object  \n",
      " 7   MILESNORTH  456 non-null    object  \n",
      " 8   PAGE        456 non-null    object  \n",
      " 9   UPCPREFIX   456 non-null    object  \n",
      " 10  FULLZONEMA  456 non-null    object  \n",
      " 11  ADDATLASPD  456 non-null    object  \n",
      " 12  ZONEATLASP  456 non-null    object  \n",
      " 13  ADDCABQ     456 non-null    object  \n",
      " 14  ZONECABQ    456 non-null    object  \n",
      " 15  geometry    456 non-null    geometry\n",
      "dtypes: geometry(1), int64(3), object(12)\n",
      "memory usage: 57.1+ KB\n"
     ]
    }
   ],
   "source": [
    "zonegrid.drop(columns=[\n",
    "    'STLe', 'STAr', 'last_edi_1', 'last_edite', \n",
    "    'created_da', 'created_us'\n",
    "], inplace=True)\n",
    "zonegrid.info()"
   ]
  },
  {
   "cell_type": "code",
   "execution_count": 82,
   "id": "4c8ee60f-eb4b-44ec-ba93-dbc48765c19e",
   "metadata": {},
   "outputs": [
    {
     "data": {
      "text/plain": [
       "456"
      ]
     },
     "execution_count": 82,
     "metadata": {},
     "output_type": "execute_result"
    }
   ],
   "source": [
    "len(zonegrid.ZONEMAPNAM.unique())"
   ]
  },
  {
   "cell_type": "code",
   "execution_count": 83,
   "id": "fcb7f30b-11a8-47ee-a4e5-b0598fded096",
   "metadata": {},
   "outputs": [
    {
     "name": "stdout",
     "output_type": "stream",
     "text": [
      "OBJECTID: 456\n",
      "ZONEMAPNAM: 456\n",
      "TOWNSHIP: 5\n",
      "RANGE: 4\n",
      "SECTIONNUM: 36\n",
      "REFERENCE: 1\n",
      "MILESEAST: 24\n",
      "MILESNORTH: 19\n",
      "PAGE: 456\n",
      "UPCPREFIX: 456\n",
      "FULLZONEMA: 456\n",
      "ADDATLASPD: 203\n",
      "ZONEATLASP: 266\n",
      "ADDCABQ: 2\n",
      "ZONECABQ: 2\n",
      "geometry: 456\n"
     ]
    }
   ],
   "source": [
    "for c in zonegrid.columns: \n",
    "    print(f'{c}: {len(zonegrid[c].unique())}')"
   ]
  },
  {
   "cell_type": "code",
   "execution_count": 84,
   "id": "8710b02a-e159-4856-9208-0b48adc98957",
   "metadata": {},
   "outputs": [
    {
     "name": "stdout",
     "output_type": "stream",
     "text": [
      "<class 'geopandas.geodataframe.GeoDataFrame'>\n",
      "RangeIndex: 456 entries, 0 to 455\n",
      "Data columns (total 16 columns):\n",
      " #   Column                    Non-Null Count  Dtype   \n",
      "---  ------                    --------------  -----   \n",
      " 0   OBJECTID                  456 non-null    int64   \n",
      " 1   ZONEMAPNAM                456 non-null    object  \n",
      " 2   TOWNSHIP                  456 non-null    object  \n",
      " 3   RANGE                     456 non-null    object  \n",
      " 4   SECTIONNUM                456 non-null    int64   \n",
      " 5   REFERENCE                 456 non-null    int64   \n",
      " 6   MILESEAST                 456 non-null    object  \n",
      " 7   MILESNORTH                456 non-null    object  \n",
      " 8   PAGE                      456 non-null    object  \n",
      " 9   UPCPREFIX                 456 non-null    object  \n",
      " 10  FULLZONEMA                456 non-null    object  \n",
      " 11  AddressPDF                456 non-null    object  \n",
      " 12  ZonePDF                   456 non-null    object  \n",
      " 13  isCityProvidedAddressPDF  456 non-null    object  \n",
      " 14  isCityProvidedZonePDF     456 non-null    object  \n",
      " 15  geometry                  456 non-null    geometry\n",
      "dtypes: geometry(1), int64(3), object(12)\n",
      "memory usage: 57.1+ KB\n"
     ]
    }
   ],
   "source": [
    "zonegrid.rename(columns=dict(\n",
    "    ZONEATLASP = 'ZonePDF', \n",
    "    ZONECABQ = 'isCityProvidedZonePDF', \n",
    "    ADDATLASPD = 'AddressPDF', \n",
    "    ADDCABQ = 'isCityProvidedAddressPDF'\n",
    "), inplace=True)\n",
    "zonegrid.info()"
   ]
  },
  {
   "cell_type": "code",
   "execution_count": 85,
   "id": "72da97ce-038a-4d0a-a7e3-19037e4367cc",
   "metadata": {},
   "outputs": [
    {
     "data": {
      "text/html": [
       "<div>\n",
       "<style scoped>\n",
       "    .dataframe tbody tr th:only-of-type {\n",
       "        vertical-align: middle;\n",
       "    }\n",
       "\n",
       "    .dataframe tbody tr th {\n",
       "        vertical-align: top;\n",
       "    }\n",
       "\n",
       "    .dataframe thead th {\n",
       "        text-align: right;\n",
       "    }\n",
       "</style>\n",
       "<table border=\"1\" class=\"dataframe\">\n",
       "  <thead>\n",
       "    <tr style=\"text-align: right;\">\n",
       "      <th></th>\n",
       "      <th>FULLZONEMA</th>\n",
       "      <th>ZONEMAPNAM</th>\n",
       "    </tr>\n",
       "  </thead>\n",
       "  <tbody>\n",
       "    <tr>\n",
       "      <th>0</th>\n",
       "      <td>B-16-Z</td>\n",
       "      <td>B16</td>\n",
       "    </tr>\n",
       "    <tr>\n",
       "      <th>1</th>\n",
       "      <td>G-07-Z</td>\n",
       "      <td>G7</td>\n",
       "    </tr>\n",
       "    <tr>\n",
       "      <th>2</th>\n",
       "      <td>H-01-Z</td>\n",
       "      <td>H1</td>\n",
       "    </tr>\n",
       "    <tr>\n",
       "      <th>3</th>\n",
       "      <td>C-05-Z</td>\n",
       "      <td>C5</td>\n",
       "    </tr>\n",
       "    <tr>\n",
       "      <th>4</th>\n",
       "      <td>H-16-Z</td>\n",
       "      <td>H16</td>\n",
       "    </tr>\n",
       "    <tr>\n",
       "      <th>...</th>\n",
       "      <td>...</td>\n",
       "      <td>...</td>\n",
       "    </tr>\n",
       "    <tr>\n",
       "      <th>451</th>\n",
       "      <td>U-09-Z</td>\n",
       "      <td>U9</td>\n",
       "    </tr>\n",
       "    <tr>\n",
       "      <th>452</th>\n",
       "      <td>P-21-Z</td>\n",
       "      <td>P21</td>\n",
       "    </tr>\n",
       "    <tr>\n",
       "      <th>453</th>\n",
       "      <td>K-14-Z</td>\n",
       "      <td>K14</td>\n",
       "    </tr>\n",
       "    <tr>\n",
       "      <th>454</th>\n",
       "      <td>C-03-Z</td>\n",
       "      <td>C3</td>\n",
       "    </tr>\n",
       "    <tr>\n",
       "      <th>455</th>\n",
       "      <td>Q-10-Z</td>\n",
       "      <td>Q10</td>\n",
       "    </tr>\n",
       "  </tbody>\n",
       "</table>\n",
       "<p>456 rows × 2 columns</p>\n",
       "</div>"
      ],
      "text/plain": [
       "    FULLZONEMA ZONEMAPNAM\n",
       "0       B-16-Z        B16\n",
       "1       G-07-Z         G7\n",
       "2       H-01-Z         H1\n",
       "3       C-05-Z         C5\n",
       "4       H-16-Z        H16\n",
       "..         ...        ...\n",
       "451     U-09-Z         U9\n",
       "452     P-21-Z        P21\n",
       "453     K-14-Z        K14\n",
       "454     C-03-Z         C3\n",
       "455     Q-10-Z        Q10\n",
       "\n",
       "[456 rows x 2 columns]"
      ]
     },
     "execution_count": 85,
     "metadata": {},
     "output_type": "execute_result"
    }
   ],
   "source": [
    "zonegrid[['FULLZONEMA', 'ZONEMAPNAM']]"
   ]
  },
  {
   "cell_type": "code",
   "execution_count": 86,
   "id": "6cc39913-55cb-48bb-b6ea-b87a1e9c869e",
   "metadata": {},
   "outputs": [],
   "source": [
    "zonegrid.rename(columns=dict(\n",
    "    FULLZONEMA = 'LongMapName', \n",
    "    ZONEMAPNAM = 'ZoneMapName'\n",
    "), inplace=True)"
   ]
  },
  {
   "cell_type": "code",
   "execution_count": 87,
   "id": "f1a3ec08-accf-41bc-97c2-5c9a2c6a423c",
   "metadata": {},
   "outputs": [
    {
     "data": {
      "text/plain": [
       "array(['R3E', 'R2E', 'R1E', 'R4E'], dtype=object)"
      ]
     },
     "execution_count": 87,
     "metadata": {},
     "output_type": "execute_result"
    }
   ],
   "source": [
    "zonegrid.RANGE.unique()"
   ]
  },
  {
   "cell_type": "code",
   "execution_count": 88,
   "id": "1100ef24-5a30-4218-8967-bf1ebe0d7e9e",
   "metadata": {},
   "outputs": [
    {
     "name": "stdout",
     "output_type": "stream",
     "text": [
      "<class 'geopandas.geodataframe.GeoDataFrame'>\n",
      "RangeIndex: 456 entries, 0 to 455\n",
      "Data columns (total 16 columns):\n",
      " #   Column                    Non-Null Count  Dtype   \n",
      "---  ------                    --------------  -----   \n",
      " 0   OBJECTID                  456 non-null    int64   \n",
      " 1   ZoneMapName               456 non-null    object  \n",
      " 2   Township                  456 non-null    object  \n",
      " 3   Range                     456 non-null    object  \n",
      " 4   Section                   456 non-null    int64   \n",
      " 5   REFERENCE                 456 non-null    int64   \n",
      " 6   MILESEAST                 456 non-null    object  \n",
      " 7   MILESNORTH                456 non-null    object  \n",
      " 8   PAGE                      456 non-null    object  \n",
      " 9   UPCPREFIX                 456 non-null    object  \n",
      " 10  LongMapName               456 non-null    object  \n",
      " 11  AddressPDF                456 non-null    object  \n",
      " 12  ZonePDF                   456 non-null    object  \n",
      " 13  isCityProvidedAddressPDF  456 non-null    object  \n",
      " 14  isCityProvidedZonePDF     456 non-null    object  \n",
      " 15  geometry                  456 non-null    geometry\n",
      "dtypes: geometry(1), int64(3), object(12)\n",
      "memory usage: 57.1+ KB\n"
     ]
    }
   ],
   "source": [
    "zonegrid.rename(columns=dict(\n",
    "    SECTIONNUM = 'Section', \n",
    "    RANGE = 'Range', \n",
    "    TOWNSHIP = 'Township'\n",
    "), inplace=True)\n",
    "zonegrid.info()"
   ]
  },
  {
   "cell_type": "code",
   "execution_count": 89,
   "id": "d5c5aa2c-6897-4923-8663-57ce4124a278",
   "metadata": {},
   "outputs": [
    {
     "data": {
      "text/plain": [
       "array([1])"
      ]
     },
     "execution_count": 89,
     "metadata": {},
     "output_type": "execute_result"
    }
   ],
   "source": [
    "zonegrid.REFERENCE.unique()"
   ]
  },
  {
   "cell_type": "code",
   "execution_count": 90,
   "id": "d6d39d4c-a002-425b-b9eb-350163e2d6f1",
   "metadata": {},
   "outputs": [
    {
     "name": "stdout",
     "output_type": "stream",
     "text": [
      "<class 'geopandas.geodataframe.GeoDataFrame'>\n",
      "RangeIndex: 456 entries, 0 to 455\n",
      "Data columns (total 13 columns):\n",
      " #   Column                    Non-Null Count  Dtype   \n",
      "---  ------                    --------------  -----   \n",
      " 0   OBJECTID                  456 non-null    int64   \n",
      " 1   ZoneMapName               456 non-null    object  \n",
      " 2   Township                  456 non-null    object  \n",
      " 3   Range                     456 non-null    object  \n",
      " 4   Section                   456 non-null    object  \n",
      " 5   Page                      456 non-null    object  \n",
      " 6   UPCPrefix                 456 non-null    object  \n",
      " 7   LongMapName               456 non-null    object  \n",
      " 8   AddressPDF                456 non-null    object  \n",
      " 9   ZonePDF                   456 non-null    object  \n",
      " 10  isCityProvidedAddressPDF  456 non-null    object  \n",
      " 11  isCityProvidedZonePDF     456 non-null    object  \n",
      " 12  geometry                  456 non-null    geometry\n",
      "dtypes: geometry(1), int64(1), object(11)\n",
      "memory usage: 46.4+ KB\n"
     ]
    }
   ],
   "source": [
    "zonegrid.drop(columns=['REFERENCE', 'MILESEAST', 'MILESNORTH'], inplace=True) \n",
    "zonegrid.rename(columns=dict(PAGE='Page', UPCPREFIX='UPCPrefix'), inplace=True) \n",
    "zonegrid.Section = zonegrid.Section.astype(str) \n",
    "zonegrid.info()"
   ]
  },
  {
   "cell_type": "code",
   "execution_count": 91,
   "id": "d2911270-4b89-44f3-bab3-5a5dff11fc5f",
   "metadata": {},
   "outputs": [],
   "source": [
    "zonegrid = zonegrid.to_crs(4267)"
   ]
  },
  {
   "cell_type": "code",
   "execution_count": 92,
   "id": "a6332dff-ca31-4a59-80f6-91a2fd2c0945",
   "metadata": {},
   "outputs": [],
   "source": [
    "zonegrid.to_file('../../../data/local/abq_city_data.gpkg', layer='zonegrid')"
   ]
  },
  {
   "cell_type": "code",
   "execution_count": 93,
   "id": "d90ab3e2-10e5-43ac-8750-b46d00f9b961",
   "metadata": {},
   "outputs": [],
   "source": [
    "zonegrid.to_file('../../../localData/City/zonegrid.gpkg')"
   ]
  },
  {
   "cell_type": "code",
   "execution_count": null,
   "id": "fb46a9fb-9402-472f-b79d-a6cdfd1b7dc8",
   "metadata": {},
   "outputs": [],
   "source": []
  }
 ],
 "metadata": {
  "kernelspec": {
   "display_name": "Python 3 (ipykernel)",
   "language": "python",
   "name": "python3"
  },
  "language_info": {
   "codemirror_mode": {
    "name": "ipython",
    "version": 3
   },
   "file_extension": ".py",
   "mimetype": "text/x-python",
   "name": "python",
   "nbconvert_exporter": "python",
   "pygments_lexer": "ipython3",
   "version": "3.12.7"
  }
 },
 "nbformat": 4,
 "nbformat_minor": 5
}
