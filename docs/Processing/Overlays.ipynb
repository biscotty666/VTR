{
 "cells": [
  {
   "cell_type": "markdown",
   "id": "fedabb24-d395-441f-a147-df7313e7eccc",
   "metadata": {},
   "source": [
    "# Create and save overlays"
   ]
  },
  {
   "cell_type": "markdown",
   "id": "66c96bea-958c-4bc0-86d2-ef4806f0904d",
   "metadata": {},
   "source": [
    "## Albuquerque"
   ]
  },
  {
   "cell_type": "code",
   "execution_count": 42,
   "id": "029094c8-10b1-44b9-95e5-c38b44ab95de",
   "metadata": {},
   "outputs": [],
   "source": [
    "import geopandas as gpd\n",
    "from shapely.geometry import box, Point\n",
    "from contextily import Place\n",
    "import contextily as ctx\n",
    "import numpy as np\n",
    "%matplotlib inline\n",
    "from matplotlib import pyplot as plt\n",
    "\n",
    "from typing import TypeVar\n",
    "PandasDataFrame = TypeVar('pandas.core.frame.DataFrame')\n",
    "GeoDF = TypeVar('geopandas.geodataframe.GeoDataFrame')"
   ]
  },
  {
   "cell_type": "code",
   "execution_count": 88,
   "id": "0bc85253-5191-4a3b-8161-40b8106a1745",
   "metadata": {},
   "outputs": [],
   "source": [
    "abq_shp = gpd.read_file(\"../../data/local/abq_base.shp\")\n",
    "DATA_PATH = \"../../data/\"\n",
    "\n",
    "def extractOverlay(path_in: str, path_out: str, \n",
    "                   overlay: GeoDF = abq_shp, \n",
    "                   save_full: str = None\n",
    "                  ) -> GeoDF:\n",
    "    \"\"\" \n",
    "    Applies an overlay to a dataset, saves as gpkg, returns the frame\n",
    "    \"\"\"\n",
    "    name = gpd.read_file(DATA_PATH + path_in)\n",
    "\n",
    "    assert name.crs == overlay.crs, \"CRS don't match\"\n",
    "\n",
    "    overlaid = name.overlay(\n",
    "        overlay,\n",
    "        how=\"intersection\"\n",
    "    )\n",
    "    overlaid.drop('FID', axis=1, inplace=True)\n",
    "\n",
    "    print(f\"{overlaid.shape=}\")\n",
    "    print(f\"{name.shape=}\")\n",
    "    overlaid.to_file(DATA_PATH + path_out, \n",
    "                 driver='GPKG', layer='base')\n",
    "\n",
    "    if save_full:\n",
    "        name.to_file(DATA_PATH + save_full, \n",
    "                 driver='GPKG', layer='base')\n",
    "\n",
    "\n",
    "    return name"
   ]
  },
  {
   "cell_type": "markdown",
   "id": "a593ab8e-6e32-4c90-b74f-127a529a89a1",
   "metadata": {},
   "source": [
    ">Roads"
   ]
  },
  {
   "cell_type": "code",
   "execution_count": 89,
   "id": "6bafd109-f709-4c00-8c35-999f2cf7a552",
   "metadata": {},
   "outputs": [
    {
     "name": "stdout",
     "output_type": "stream",
     "text": [
      "overlaid.shape=(15024, 7)\n",
      "name.shape=(20562, 7)\n"
     ]
    }
   ],
   "source": [
    "roads_abq = extractOverlay(\n",
    "    \"download/tl_2010_35001_roads.zip\", \n",
    "    \"local/roads_abq.gpkg\", \n",
    "    save_full='local/roads_nm.gpkg'\n",
    ")"
   ]
  },
  {
   "cell_type": "markdown",
   "id": "ed1dcbbc-72d7-45e7-a92a-a559cea9ef69",
   "metadata": {},
   "source": [
    ">Water"
   ]
  },
  {
   "cell_type": "code",
   "execution_count": 90,
   "id": "feee0240-b9ce-4377-a077-8db9178dd5dc",
   "metadata": {},
   "outputs": [
    {
     "name": "stdout",
     "output_type": "stream",
     "text": [
      "overlaid.shape=(1024, 8)\n",
      "name.shape=(2009, 8)\n"
     ]
    }
   ],
   "source": [
    "water_ln_abq = extractOverlay(\n",
    "    \"download/tl_2010_35001_linearwater.zip\", \n",
    "    \"local/water_ln_abq.gpkg\", \n",
    "    save_full=\"local/water_ln_nm.gpkg\"\n",
    ")"
   ]
  },
  {
   "cell_type": "code",
   "execution_count": null,
   "id": "04b29913-f7b5-4ed4-bfee-51eb18304f51",
   "metadata": {},
   "outputs": [],
   "source": []
  }
 ],
 "metadata": {
  "kernelspec": {
   "display_name": "Python 3 (ipykernel)",
   "language": "python",
   "name": "python3"
  },
  "language_info": {
   "codemirror_mode": {
    "name": "ipython",
    "version": 3
   },
   "file_extension": ".py",
   "mimetype": "text/x-python",
   "name": "python",
   "nbconvert_exporter": "python",
   "pygments_lexer": "ipython3",
   "version": "3.12.7"
  }
 },
 "nbformat": 4,
 "nbformat_minor": 5
}
